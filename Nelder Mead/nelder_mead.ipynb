{
 "cells": [
  {
   "cell_type": "code",
   "execution_count": 35,
   "metadata": {},
   "outputs": [],
   "source": [
    "import pickle \n",
    "import pennylane as qml\n",
    "import pennylane.numpy as np\n",
    "import jax\n",
    "import jax.numpy as jnp\n",
    "import optax\n",
    "import jaxopt\n",
    "\n",
    "\n",
    "import os, sys, argparse\n",
    "\n",
    "parent = os.path.abspath('../src')\n",
    "sys.path.insert(1, parent)\n",
    "\n",
    "from perceptron import Perceptron\n",
    "\n",
    "from perceptron import NativePerceptron\n",
    "import time \n",
    "\n",
    "import matplotlib.pyplot as plt\n"
   ]
  },
  {
   "cell_type": "code",
   "execution_count": 36,
   "metadata": {},
   "outputs": [
    {
     "name": "stderr",
     "output_type": "stream",
     "text": [
      "/Users/jorgegarciaponce/Research/Yelin/PerceptronLossLandscapes/.venv/lib/python3.11/site-packages/pennylane/ops/functions/eigvals.py:108: UserWarning: For Hamiltonians, the eigenvalues will be computed numerically. This may be computationally intensive for a large number of wires. Consider using a sparse representation of the Hamiltonian with qml.SparseHamiltonian.\n",
      "  warnings.warn(\n"
     ]
    }
   ],
   "source": [
    "Ntrials=100\n",
    "N=5\n",
    "P=5*N\n",
    "\n",
    "\n",
    "# Configuration settings\n",
    "jax.config.update(\"jax_enable_x64\", True)\n",
    "jax.config.update(\"jax_platform_name\", \"cpu\")\n",
    "\n",
    "# Setting up the quantum perceptron problem\n",
    "perceptron_qubits = N\n",
    "n_axis=2\n",
    "pulse_basis = P\n",
    "sigma=0.1\n",
    "save_path = ''\n",
    "n_epochs = 200\n",
    "\n",
    "ts = jnp.array([1.0])\n",
    "t = 1\n",
    "times = jnp.linspace(0,t, pulse_basis+2)[1:-1]\n",
    "dev = qml.device(\"default.qubit.jax\", wires=perceptron_qubits)\n",
    "\n",
    "#Setting up perceptron\n",
    "perceptron = NativePerceptron(perceptron_qubits, pulse_basis, basis='fourier', pulse_width=sigma, native_coupling=1)\n",
    "H = perceptron.H\n",
    "\n",
    "#Setting up target unitary\n",
    "H_obj, H_obj_spectrum = perceptron.get_1d_ising_hamiltonian(0.1)\n",
    "W = qml.evolve(H_obj, coeff=1)\n",
    "\n",
    "hcs = [qml.PauliX(n) for n in range(perceptron_qubits)]\n",
    "hcs+= [qml.PauliY(n) for n in range(perceptron_qubits)]\n",
    "# Defining the loss function\n",
    "\n",
    "@jax.jit\n",
    "def loss(param_vector):\n",
    "    param_list = perceptron.vector_to_hamiltonian_parameters(param_vector)\n",
    "    U = qml.matrix(qml.evolve(perceptron.H)(param_list, t))\n",
    "    return qml.math.frobenius_inner_product(jnp.conjugate(U-qml.matrix(W)), U-qml.matrix(W)).real\n",
    "\n",
    "\n",
    "# print('Final loss: ', res.state.value_and_grad)\n",
    "# print('Max grad: ', np.max(res.state.grad))"
   ]
  },
  {
   "cell_type": "code",
   "execution_count": 37,
   "metadata": {},
   "outputs": [],
   "source": [
    "loss_history = []\n",
    "parameters_history = []\n",
    "\n",
    "def callback(params):\n",
    "    parameters_history.append(params)\n",
    "    current_loss = loss(params)\n",
    "    loss_history.append(current_loss)\n",
    "\n",
    "\n",
    "solver = jaxopt.ScipyMinimize(method='Nelder-Mead', fun=loss, callback=callback)\n"
   ]
  },
  {
   "cell_type": "code",
   "execution_count": 38,
   "metadata": {},
   "outputs": [
    {
     "name": "stderr",
     "output_type": "stream",
     "text": [
      "/Users/jorgegarciaponce/Research/Yelin/PerceptronLossLandscapes/.venv/lib/python3.11/site-packages/scipy/optimize/_minimize.py:560: RuntimeWarning: Method Nelder-Mead does not use gradient information (jac).\n",
      "  warn('Method %s does not use gradient information (jac).' % method,\n"
     ]
    },
    {
     "name": "stdout",
     "output_type": "stream",
     "text": [
      "OptStep(params=Array([0.90815588, 0.705076  , 0.79375417, 0.97672751, 0.89131049,\n",
      "       0.19897614, 0.17158972, 0.79445562, 0.77112614, 0.10582903,\n",
      "       0.4457765 , 0.42834981, 0.32359638, 0.58765979, 0.10404568,\n",
      "       0.19253082, 0.65164109, 0.69635074, 0.44805862, 0.08228743,\n",
      "       0.9610441 , 0.50782019, 0.82562051, 0.17732092, 0.75269856,\n",
      "       0.00678523, 0.97842708, 0.65388874, 0.42795824, 0.49847879,\n",
      "       0.78831787, 0.63808673, 0.20709025, 0.16634758, 0.07334163,\n",
      "       0.63510932, 0.47457242, 0.10554933, 0.73990481, 0.85575838,\n",
      "       0.17844896, 0.09445475, 0.10922904, 0.12284548, 0.85338218,\n",
      "       0.08601752, 0.81848402, 0.55538007, 0.23651012, 0.73144943,\n",
      "       0.11360561, 0.30283098, 0.2126048 , 0.32387287, 0.42172779,\n",
      "       0.0772903 , 0.28335187, 0.33853402, 0.62587045, 0.34637715,\n",
      "       0.36223631, 0.92987047, 0.27388468, 0.48684355, 0.69305342,\n",
      "       0.03608221, 0.8811912 , 0.16078   , 0.45780209, 0.70881856,\n",
      "       0.14475502, 0.35148716, 0.57531556, 0.98898332, 0.08522259,\n",
      "       0.01293702, 0.9738975 , 0.23044374, 0.09396947, 0.98563026,\n",
      "       0.75695123, 0.20057163, 0.86827119, 0.25536   , 0.08555803,\n",
      "       0.08627264, 0.85705856, 0.93806945, 0.89514969, 0.23610021,\n",
      "       0.16686118, 0.76462852, 0.12944651, 0.14664132, 0.21198977,\n",
      "       0.87728833, 0.39500985, 0.97142987, 0.27951003, 0.08998533,\n",
      "       0.699215  , 0.59725594, 0.29257407, 0.01142531, 0.22341016,\n",
      "       0.62862431, 0.70639602, 0.95066842, 0.03995644, 0.49304264,\n",
      "       0.11865264, 0.66437828, 0.25211686, 0.48043813, 0.52033566,\n",
      "       0.82226264, 0.04553815, 0.81719596, 0.13328703, 0.9182455 ,\n",
      "       0.57337711, 0.24202857, 0.01127969, 0.19863269, 0.37255667,\n",
      "       0.71870545, 0.55836715, 0.28904696, 0.01336736, 0.98153277,\n",
      "       0.49504641, 0.52988341, 0.92136727, 0.80895953, 0.93829541,\n",
      "       0.99588414, 0.23306382, 0.59314099, 0.26870176, 0.8690937 ,\n",
      "       0.88732822, 0.62522709, 0.74541848, 0.22708657, 0.19218484,\n",
      "       0.07422622, 0.41478926, 0.6740496 , 0.73397242, 0.93050346,\n",
      "       0.02173505, 0.64482311, 0.63300543, 0.76115816, 0.27977522,\n",
      "       0.95781402, 0.1206924 , 0.16335851, 0.87901254, 0.43056425,\n",
      "       0.16569164, 0.58163309, 0.89988428, 0.8732655 , 0.04250765,\n",
      "       0.20088404, 0.89308511, 0.38654919, 0.29169759, 0.14385333,\n",
      "       0.90422909, 0.29191781, 0.33610788, 0.48838003, 0.94405404,\n",
      "       0.85838936, 0.62702102, 0.18625649, 0.98354342, 0.64073004,\n",
      "       0.65196598, 0.2403918 , 0.56612923, 0.31040971, 0.3285145 ,\n",
      "       0.30860568, 0.37399285, 0.06874964, 0.74628816, 0.26409559,\n",
      "       0.50386615, 0.63205517, 0.62765726, 0.25595127, 0.94199898,\n",
      "       0.30008057, 0.72824717, 0.24223032, 0.55476476, 0.16895599,\n",
      "       0.90642115, 0.97588413, 0.78878755, 0.77231048, 0.38077206,\n",
      "       0.33870137, 0.32718807, 0.00920582, 0.87756554, 0.45108143,\n",
      "       0.12150765, 0.36647579, 0.31624494, 0.20006277, 0.11829667,\n",
      "       0.13264316, 0.28069735, 0.39144432, 0.95040785, 0.59335303,\n",
      "       0.03341447, 0.56165048, 0.53061846, 0.75114057, 0.31530561,\n",
      "       0.39538374, 0.88666015, 0.26476976, 0.14370656, 0.94553966,\n",
      "       0.05061064, 0.53190599, 0.09479566, 0.86001243, 0.79500289,\n",
      "       0.54272347, 0.14110424, 0.52733702, 0.74505228, 0.56864444,\n",
      "       0.9156748 , 0.22864709, 0.70653166, 0.60345558, 0.70529154,\n",
      "       0.6001189 , 0.04417514, 0.58878807, 0.36164566, 0.14782807],      dtype=float64), state=ScipyMinimizeInfo(fun_val=Array(62.99179093, dtype=float64), success=False, status=2, iter_num=500, hess_inv=None, num_fun_eval=Array(751, dtype=int32), num_jac_eval=Array(0, dtype=int32), num_hess_eval=Array(0, dtype=int32)))\n"
     ]
    }
   ],
   "source": [
    "random_seed = int(time.time() * 1000)  # time in milliseconds\n",
    "param_vector = perceptron.get_random_parameter_vector(random_seed)\n",
    "\n",
    "res=solver.run(param_vector)\n",
    "print(res)"
   ]
  },
  {
   "cell_type": "code",
   "execution_count": 39,
   "metadata": {},
   "outputs": [
    {
     "data": {
      "text/plain": [
       "Array([0.90815588, 0.705076  , 0.79375417, 0.97672751, 0.89131049,\n",
       "       0.19897614, 0.17158972, 0.79445562, 0.77112614, 0.10582903,\n",
       "       0.4457765 , 0.42834981, 0.32359638, 0.58765979, 0.10404568,\n",
       "       0.19253082, 0.65164109, 0.69635074, 0.44805862, 0.08228743,\n",
       "       0.9610441 , 0.50782019, 0.82562051, 0.17732092, 0.75269856,\n",
       "       0.00678523, 0.97842708, 0.65388874, 0.42795824, 0.49847879,\n",
       "       0.78831787, 0.63808673, 0.20709025, 0.16634758, 0.07334163,\n",
       "       0.63510932, 0.47457242, 0.10554933, 0.73990481, 0.85575838,\n",
       "       0.17844896, 0.09445475, 0.10922904, 0.12284548, 0.85338218,\n",
       "       0.08601752, 0.81848402, 0.55538007, 0.23651012, 0.73144943,\n",
       "       0.11360561, 0.30283098, 0.2126048 , 0.32387287, 0.42172779,\n",
       "       0.0772903 , 0.28335187, 0.33853402, 0.62587045, 0.34637715,\n",
       "       0.36223631, 0.92987047, 0.27388468, 0.48684355, 0.69305342,\n",
       "       0.03608221, 0.8811912 , 0.16078   , 0.45780209, 0.70881856,\n",
       "       0.14475502, 0.35148716, 0.57531556, 0.98898332, 0.08522259,\n",
       "       0.01293702, 0.9738975 , 0.23044374, 0.09396947, 0.98563026,\n",
       "       0.75695123, 0.20057163, 0.86827119, 0.25536   , 0.08555803,\n",
       "       0.08627264, 0.85705856, 0.93806945, 0.89514969, 0.23610021,\n",
       "       0.16686118, 0.76462852, 0.12944651, 0.14664132, 0.21198977,\n",
       "       0.87728833, 0.39500985, 0.97142987, 0.27951003, 0.08998533,\n",
       "       0.699215  , 0.59725594, 0.29257407, 0.01142531, 0.22341016,\n",
       "       0.62862431, 0.70639602, 0.95066842, 0.03995644, 0.49304264,\n",
       "       0.11865264, 0.66437828, 0.25211686, 0.48043813, 0.52033566,\n",
       "       0.82226264, 0.04553815, 0.81719596, 0.13328703, 0.9182455 ,\n",
       "       0.57337711, 0.24202857, 0.01127969, 0.19863269, 0.37255667,\n",
       "       0.71870545, 0.55836715, 0.28904696, 0.01336736, 0.98153277,\n",
       "       0.49504641, 0.52988341, 0.92136727, 0.80895953, 0.93829541,\n",
       "       0.99588414, 0.23306382, 0.59314099, 0.26870176, 0.8690937 ,\n",
       "       0.88732822, 0.62522709, 0.74541848, 0.22708657, 0.19218484,\n",
       "       0.07422622, 0.41478926, 0.6740496 , 0.73397242, 0.93050346,\n",
       "       0.02173505, 0.64482311, 0.63300543, 0.76115816, 0.27977522,\n",
       "       0.95781402, 0.1206924 , 0.16335851, 0.87901254, 0.43056425,\n",
       "       0.16569164, 0.58163309, 0.89988428, 0.8732655 , 0.04250765,\n",
       "       0.20088404, 0.89308511, 0.38654919, 0.29169759, 0.14385333,\n",
       "       0.90422909, 0.29191781, 0.33610788, 0.48838003, 0.94405404,\n",
       "       0.85838936, 0.62702102, 0.18625649, 0.98354342, 0.64073004,\n",
       "       0.65196598, 0.2403918 , 0.56612923, 0.31040971, 0.3285145 ,\n",
       "       0.30860568, 0.37399285, 0.06874964, 0.74628816, 0.26409559,\n",
       "       0.50386615, 0.63205517, 0.62765726, 0.25595127, 0.94199898,\n",
       "       0.30008057, 0.72824717, 0.24223032, 0.55476476, 0.16895599,\n",
       "       0.90642115, 0.97588413, 0.78878755, 0.77231048, 0.38077206,\n",
       "       0.33870137, 0.32718807, 0.00920582, 0.87756554, 0.45108143,\n",
       "       0.12150765, 0.36647579, 0.31624494, 0.20006277, 0.11829667,\n",
       "       0.13264316, 0.28069735, 0.39144432, 0.95040785, 0.59335303,\n",
       "       0.03341447, 0.56165048, 0.53061846, 0.75114057, 0.31530561,\n",
       "       0.39538374, 0.88666015, 0.26476976, 0.14370656, 0.94553966,\n",
       "       0.05061064, 0.53190599, 0.09479566, 0.86001243, 0.79500289,\n",
       "       0.54272347, 0.14110424, 0.52733702, 0.74505228, 0.56864444,\n",
       "       0.9156748 , 0.22864709, 0.70653166, 0.60345558, 0.70529154,\n",
       "       0.6001189 , 0.04417514, 0.58878807, 0.36164566, 0.14782807],      dtype=float64)"
      ]
     },
     "execution_count": 39,
     "metadata": {},
     "output_type": "execute_result"
    }
   ],
   "source": [
    "res.params"
   ]
  },
  {
   "cell_type": "code",
   "execution_count": 40,
   "metadata": {},
   "outputs": [
    {
     "data": {
      "text/plain": [
       "Array(62.99179093, dtype=float64)"
      ]
     },
     "execution_count": 40,
     "metadata": {},
     "output_type": "execute_result"
    }
   ],
   "source": [
    "len(loss_history)\n",
    "loss_history[-1]"
   ]
  },
  {
   "cell_type": "code",
   "execution_count": 41,
   "metadata": {},
   "outputs": [
    {
     "data": {
      "text/plain": [
       "[<matplotlib.lines.Line2D at 0x293e9df90>]"
      ]
     },
     "execution_count": 41,
     "metadata": {},
     "output_type": "execute_result"
    },
    {
     "data": {
      "image/png": "[encoded data removed]",
      "text/plain": [
       "<Figure size 640x480 with 1 Axes>"
      ]
     },
     "metadata": {},
     "output_type": "display_data"
    }
   ],
   "source": [
    "plt.plot(loss_history)"
   ]
  },
  {
   "cell_type": "code",
   "execution_count": null,
   "metadata": {},
   "outputs": [],
   "source": []
  }
 ],
 "metadata": {
  "kernelspec": {
   "display_name": ".venv",
   "language": "python",
   "name": "python3"
  },
  "language_info": {
   "codemirror_mode": {
    "name": "ipython",
    "version": 3
   },
   "file_extension": ".py",
   "mimetype": "text/x-python",
   "name": "python",
   "nbconvert_exporter": "python",
   "pygments_lexer": "ipython3",
   "version": "3.11.3"
  }
 },
 "nbformat": 4,
 "nbformat_minor": 2
}
