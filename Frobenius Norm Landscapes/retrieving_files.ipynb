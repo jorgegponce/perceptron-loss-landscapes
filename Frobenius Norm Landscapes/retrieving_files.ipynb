{
 "cells": [
  {
   "cell_type": "code",
   "execution_count": 1,
   "metadata": {},
   "outputs": [],
   "source": [
    "import os\n",
    "\n",
    "def find_specific_pickle_files(directory, start_number):\n",
    "    pickle_files = []\n",
    "    for root, dirs, files in os.walk(directory):\n",
    "        for file in files:\n",
    "            if file.startswith(str(start_number)) and file.endswith('.pickle'):\n",
    "                pickle_files.append(os.path.join(root, file))\n",
    "    return pickle_files\n",
    "\n",
    "def save_file_list(file_list, output_file):\n",
    "    with open(output_file, 'w') as f:\n",
    "        for file in file_list:\n",
    "            f.write(file + '\\n')\n",
    "\n"
   ]
  },
  {
   "cell_type": "code",
   "execution_count": 16,
   "metadata": {},
   "outputs": [],
   "source": [
    "# Example usage\n",
    "directory = 'Results/3_qubits'  # Replace with the actual directory path\n",
    "start_number = 11  # Replace with the desired starting number\n",
    "pickle_files = find_specific_pickle_files(directory, start_number)\n",
    "\n",
    "# print(len(pickle_files))\n",
    "# Saving the results to a file\n",
    "output_file = 'Results/3_qubits_11_pulses.txt'  # Replace with the desired output file path\n",
    "save_file_list(pickle_files, output_file)"
   ]
  }
 ],
 "metadata": {
  "kernelspec": {
   "display_name": ".venv",
   "language": "python",
   "name": "python3"
  },
  "language_info": {
   "codemirror_mode": {
    "name": "ipython",
    "version": 3
   },
   "file_extension": ".py",
   "mimetype": "text/x-python",
   "name": "python",
   "nbconvert_exporter": "python",
   "pygments_lexer": "ipython3",
   "version": "3.11.3"
  }
 },
 "nbformat": 4,
 "nbformat_minor": 2
}
