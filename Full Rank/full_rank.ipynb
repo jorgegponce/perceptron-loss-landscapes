{
 "cells": [
  {
   "cell_type": "code",
   "execution_count": 3,
   "metadata": {},
   "outputs": [],
   "source": [
    "import pennylane as qml\n",
    "import pennylane.numpy as np\n",
    "import jax.numpy as jnp\n",
    "from scipy.special import legendre\n",
    "from scipy.integrate import quad\n",
    "import jax\n",
    "import optax\n",
    "\n",
    "from tqdm.notebook import tqdm\n",
    "\n",
    "\n",
    "from time import time\n",
    "import pickle\n",
    "\n",
    "import matplotlib.pyplot as plt\n",
    "\n",
    "import os, sys, argparse\n",
    "\n",
    "parent = os.path.abspath('../src/')\n",
    "sys.path.insert(1, parent)\n",
    "\n",
    "from perceptron import Perceptron\n",
    "\n",
    "\n",
    "\n",
    "# Set to float64 precision and remove jax CPU/GPU warning\n",
    "jax.config.update(\"jax_enable_x64\", True)\n",
    "jax.config.update(\"jax_platform_name\", \"cpu\")\n"
   ]
  },
  {
   "cell_type": "code",
   "execution_count": 4,
   "metadata": {},
   "outputs": [],
   "source": [
    "perceptron_qubits = 2\n",
    "\n",
    "dev = qml.device(\"default.qubit.jax\", wires = perceptron_qubits)\n",
    "\n",
    "# transverse_field_coefficient = args.field\n",
    "pulse_basis = 2\n",
    "# n_steps = 50\n",
    "# lr = args.lr\n",
    "random_seed = 7\n",
    "\n",
    "t0 = 0.0\n",
    "tf = 1.0\n",
    "# n_steps = 50\n"
   ]
  },
  {
   "cell_type": "code",
   "execution_count": 5,
   "metadata": {},
   "outputs": [
    {
     "name": "stdout",
     "output_type": "stream",
     "text": [
      "[0.65433892 0.96543909 0.05625912 0.46084293 0.77052822 0.99609687\n",
      " 0.31379293 0.29736026 0.93472931]\n",
      "[Array(0.65433892, dtype=float64), Array([0.96543909, 0.05625912], dtype=float64), Array([0.46084293, 0.77052822], dtype=float64), Array([0.99609687, 0.31379293], dtype=float64), Array([0.29736026, 0.93472931], dtype=float64)]\n"
     ]
    }
   ],
   "source": [
    "\n",
    "perceptron = Perceptron(perceptron_qubits, pulse_basis, basis='gaussian', pulse_width=0.5)\n",
    "\n",
    "H =  perceptron.H\n",
    "\n",
    "\n",
    "param_vector = perceptron.get_random_parameter_vector(random_seed)\n",
    "param_list = perceptron.vector_to_hamiltonian_parameters(param_vector)\n",
    "\n",
    "\n",
    "print(param_vector)\n",
    "\n",
    "print(param_list)\n"
   ]
  },
  {
   "cell_type": "code",
   "execution_count": 6,
   "metadata": {},
   "outputs": [
    {
     "data": {
      "text/plain": [
       "Array(0.32809888, dtype=float64)"
      ]
     },
     "execution_count": 6,
     "metadata": {},
     "output_type": "execute_result"
    }
   ],
   "source": [
    "perceptron.field_basis_functions[0](0+0.9e-4)"
   ]
  },
  {
   "cell_type": "code",
   "execution_count": 7,
   "metadata": {},
   "outputs": [
    {
     "data": {
      "image/png": "[encoded data removed]",
      "text/plain": [
       "<Figure size 640x480 with 2 Axes>"
      ]
     },
     "metadata": {},
     "output_type": "display_data"
    }
   ],
   "source": [
    "ts = jnp.linspace(0.0, 1, 1000)[:-1]\n",
    "\n",
    "param_list = perceptron.vector_to_hamiltonian_parameters(param_vector)\n",
    "\n",
    "fig, axs = plt.subplots(nrows=perceptron_qubits, sharex=True)\n",
    "for i in range(perceptron_qubits):\n",
    "    ax = axs[i]\n",
    "    ax.plot(ts, perceptron.control_fields[i](param_list[i+perceptron_qubits-1], ts), \".-\")\n",
    "    ax.set_ylabel(f\"coeffs[{i}]\")\n",
    "ax.set_xlabel(\"time t\")\n",
    "plt.show()"
   ]
  },
  {
   "cell_type": "code",
   "execution_count": 8,
   "metadata": {},
   "outputs": [
    {
     "data": {
      "text/plain": [
       "Array([0.75476646, 0.75476646], dtype=float64)"
      ]
     },
     "execution_count": 8,
     "metadata": {},
     "output_type": "execute_result"
    }
   ],
   "source": [
    "perceptron.control_fields_x[0](1,0.5)\n",
    "\n",
    "# hmax=1e-3"
   ]
  },
  {
   "cell_type": "code",
   "execution_count": 9,
   "metadata": {},
   "outputs": [],
   "source": [
    "\n",
    "def integrand_circuit_representation(k, t, t0, tf):\n",
    "\n",
    "    if t != t0:\n",
    "        qml.evolve(H)(param_list, [t0, t], hmax = 1e-3)\n",
    "\n",
    "    perceptron.H_control_operators[k]\n",
    "\n",
    "    if t!= tf:\n",
    "        qml.evolve(H)(param_list, [t, tf], hmax = 1e-3)\n",
    "\n",
    "\n",
    "def local_surjectivity(k, n, t0, tf, n_steps):\n",
    "\n",
    "    approx_times = jnp.linspace(t0, tf, n_steps)\n",
    "\n",
    "    dt = approx_times[1]\n",
    "\n",
    "    dUdtheta = jnp.zeros((2**perceptron_qubits, 2**perceptron_qubits))\n",
    "\n",
    "    # g_n = lambda t: jnp.cos(2*jnp.pi*(t)*n)\n",
    "    # g_n = lambda t: t**n\n",
    "    # g_n = lambda t: 1\n",
    "\n",
    "    g_n = perceptron.field_basis_functions[n]\n",
    "    \n",
    "\n",
    "    for t in tqdm(approx_times):\n",
    "        # print(t)\n",
    "        # print(t)\n",
    "        integrand_matrix = qml.matrix(integrand_circuit_representation)(k, t, t0, tf)\n",
    "        # print(integrand_matrix)\n",
    "\n",
    "        dUdtheta += g_n(t) * integrand_matrix * dt\n",
    "\n",
    "    return dUdtheta"
   ]
  },
  {
   "cell_type": "code",
   "execution_count": 11,
   "metadata": {},
   "outputs": [],
   "source": [
    "total_control_fields = 2*perceptron_qubits\n",
    "\n",
    "determinant_dictionary = {}\n",
    "# X = [int(1e3)]\n",
    "X = [10, 50, 100]"
   ]
  },
  {
   "cell_type": "code",
   "execution_count": 12,
   "metadata": {},
   "outputs": [
    {
     "name": "stdout",
     "output_type": "stream",
     "text": [
      "Field: 1\n",
      "Pulse expansion terms: 1\n"
     ]
    },
    {
     "data": {
      "application/vnd.jupyter.widget-view+json": {
       "model_id": "52e5aa9bf8944b8ab615783f58a1b1db",
       "version_major": 2,
       "version_minor": 0
      },
      "text/plain": [
       "  0%|          | 0/10 [00:00<?, ?it/s]"
      ]
     },
     "metadata": {},
     "output_type": "display_data"
    },
    {
     "name": "stdout",
     "output_type": "stream",
     "text": [
      "(0.2515989819364374+1.3966549135904084e-17j)\n",
      "[[ 0.03733543-0.26068357j -0.17028044-0.21722891j -0.20062251-0.13306304j\n",
      "   0.21901429+0.5001403j ]\n",
      " [ 0.1869146 -0.20036754j  0.03843643+0.27156202j -0.53924832-0.09197949j\n",
      "  -0.16762591-0.15473042j]\n",
      " [ 0.21223906-0.11850431j -0.49940235-0.21820307j  0.03818002+0.27048082j\n",
      "  -0.21053464-0.16294181j]\n",
      " [-0.09089497-0.53834168j  0.15625291-0.16958496j  0.19364277-0.17965851j\n",
      "   0.03847125-0.28123655j]]\n",
      "Pulse expansion terms: 2\n"
     ]
    },
    {
     "name": "stderr",
     "output_type": "stream",
     "text": [
      "/var/folders/2q/r_plhm951s93s5nlm_f8ymjr0000gn/T/ipykernel_4489/2943466480.py:13: ComplexWarning: Casting complex values to real discards the imaginary part\n",
      "  determinant_matrix[k,n] = eigenvalues_array\n"
     ]
    },
    {
     "data": {
      "application/vnd.jupyter.widget-view+json": {
       "model_id": "0796aa5085ca44d3b2afb3238fe9c833",
       "version_major": 2,
       "version_minor": 0
      },
      "text/plain": [
       "  0%|          | 0/10 [00:00<?, ?it/s]"
      ]
     },
     "metadata": {},
     "output_type": "display_data"
    },
    {
     "name": "stdout",
     "output_type": "stream",
     "text": [
      "(0.2515989819364374+1.3966549135904084e-17j)\n",
      "[[ 0.03733543-0.26068357j -0.17028044-0.21722891j -0.20062251-0.13306304j\n",
      "   0.21901429+0.5001403j ]\n",
      " [ 0.1869146 -0.20036754j  0.03843643+0.27156202j -0.53924832-0.09197949j\n",
      "  -0.16762591-0.15473042j]\n",
      " [ 0.21223906-0.11850431j -0.49940235-0.21820307j  0.03818002+0.27048082j\n",
      "  -0.21053464-0.16294181j]\n",
      " [-0.09089497-0.53834168j  0.15625291-0.16958496j  0.19364277-0.17965851j\n",
      "   0.03847125-0.28123655j]]\n",
      "Field: 2\n",
      "Pulse expansion terms: 1\n"
     ]
    },
    {
     "data": {
      "application/vnd.jupyter.widget-view+json": {
       "model_id": "dd50942293624aad8d414b012298c472",
       "version_major": 2,
       "version_minor": 0
      },
      "text/plain": [
       "  0%|          | 0/10 [00:00<?, ?it/s]"
      ]
     },
     "metadata": {},
     "output_type": "display_data"
    },
    {
     "name": "stdout",
     "output_type": "stream",
     "text": [
      "(0.2515989819364374+1.3966549135904084e-17j)\n",
      "[[ 0.03733543-0.26068357j -0.17028044-0.21722891j -0.20062251-0.13306304j\n",
      "   0.21901429+0.5001403j ]\n",
      " [ 0.1869146 -0.20036754j  0.03843643+0.27156202j -0.53924832-0.09197949j\n",
      "  -0.16762591-0.15473042j]\n",
      " [ 0.21223906-0.11850431j -0.49940235-0.21820307j  0.03818002+0.27048082j\n",
      "  -0.21053464-0.16294181j]\n",
      " [-0.09089497-0.53834168j  0.15625291-0.16958496j  0.19364277-0.17965851j\n",
      "   0.03847125-0.28123655j]]\n",
      "Pulse expansion terms: 2\n"
     ]
    },
    {
     "data": {
      "application/vnd.jupyter.widget-view+json": {
       "model_id": "6a6f39e08cbf40409ebb94406b26851e",
       "version_major": 2,
       "version_minor": 0
      },
      "text/plain": [
       "  0%|          | 0/10 [00:00<?, ?it/s]"
      ]
     },
     "metadata": {},
     "output_type": "display_data"
    },
    {
     "name": "stdout",
     "output_type": "stream",
     "text": [
      "(0.2515989819364374+1.3966549135904084e-17j)\n",
      "[[ 0.03733543-0.26068357j -0.17028044-0.21722891j -0.20062251-0.13306304j\n",
      "   0.21901429+0.5001403j ]\n",
      " [ 0.1869146 -0.20036754j  0.03843643+0.27156202j -0.53924832-0.09197949j\n",
      "  -0.16762591-0.15473042j]\n",
      " [ 0.21223906-0.11850431j -0.49940235-0.21820307j  0.03818002+0.27048082j\n",
      "  -0.21053464-0.16294181j]\n",
      " [-0.09089497-0.53834168j  0.15625291-0.16958496j  0.19364277-0.17965851j\n",
      "   0.03847125-0.28123655j]]\n",
      "Field: 3\n",
      "Pulse expansion terms: 1\n"
     ]
    },
    {
     "data": {
      "application/vnd.jupyter.widget-view+json": {
       "model_id": "7be66c1a38384d4786f913931fa191e4",
       "version_major": 2,
       "version_minor": 0
      },
      "text/plain": [
       "  0%|          | 0/10 [00:00<?, ?it/s]"
      ]
     },
     "metadata": {},
     "output_type": "display_data"
    },
    {
     "name": "stdout",
     "output_type": "stream",
     "text": [
      "(0.2515989819364374+1.3966549135904084e-17j)\n",
      "[[ 0.03733543-0.26068357j -0.17028044-0.21722891j -0.20062251-0.13306304j\n",
      "   0.21901429+0.5001403j ]\n",
      " [ 0.1869146 -0.20036754j  0.03843643+0.27156202j -0.53924832-0.09197949j\n",
      "  -0.16762591-0.15473042j]\n",
      " [ 0.21223906-0.11850431j -0.49940235-0.21820307j  0.03818002+0.27048082j\n",
      "  -0.21053464-0.16294181j]\n",
      " [-0.09089497-0.53834168j  0.15625291-0.16958496j  0.19364277-0.17965851j\n",
      "   0.03847125-0.28123655j]]\n",
      "Pulse expansion terms: 2\n"
     ]
    },
    {
     "data": {
      "application/vnd.jupyter.widget-view+json": {
       "model_id": "940cfb2c51dc4943b3a267546bc77a33",
       "version_major": 2,
       "version_minor": 0
      },
      "text/plain": [
       "  0%|          | 0/10 [00:00<?, ?it/s]"
      ]
     },
     "metadata": {},
     "output_type": "display_data"
    },
    {
     "name": "stdout",
     "output_type": "stream",
     "text": [
      "(0.2515989819364374+1.3966549135904084e-17j)\n",
      "[[ 0.03733543-0.26068357j -0.17028044-0.21722891j -0.20062251-0.13306304j\n",
      "   0.21901429+0.5001403j ]\n",
      " [ 0.1869146 -0.20036754j  0.03843643+0.27156202j -0.53924832-0.09197949j\n",
      "  -0.16762591-0.15473042j]\n",
      " [ 0.21223906-0.11850431j -0.49940235-0.21820307j  0.03818002+0.27048082j\n",
      "  -0.21053464-0.16294181j]\n",
      " [-0.09089497-0.53834168j  0.15625291-0.16958496j  0.19364277-0.17965851j\n",
      "   0.03847125-0.28123655j]]\n",
      "Field: 4\n",
      "Pulse expansion terms: 1\n"
     ]
    },
    {
     "data": {
      "application/vnd.jupyter.widget-view+json": {
       "model_id": "91babdd2697c4fca9c38d7e8fafa07a1",
       "version_major": 2,
       "version_minor": 0
      },
      "text/plain": [
       "  0%|          | 0/10 [00:00<?, ?it/s]"
      ]
     },
     "metadata": {},
     "output_type": "display_data"
    },
    {
     "name": "stdout",
     "output_type": "stream",
     "text": [
      "(0.2515989819364374+1.3966549135904084e-17j)\n",
      "[[ 0.03733543-0.26068357j -0.17028044-0.21722891j -0.20062251-0.13306304j\n",
      "   0.21901429+0.5001403j ]\n",
      " [ 0.1869146 -0.20036754j  0.03843643+0.27156202j -0.53924832-0.09197949j\n",
      "  -0.16762591-0.15473042j]\n",
      " [ 0.21223906-0.11850431j -0.49940235-0.21820307j  0.03818002+0.27048082j\n",
      "  -0.21053464-0.16294181j]\n",
      " [-0.09089497-0.53834168j  0.15625291-0.16958496j  0.19364277-0.17965851j\n",
      "   0.03847125-0.28123655j]]\n",
      "Pulse expansion terms: 2\n"
     ]
    },
    {
     "data": {
      "application/vnd.jupyter.widget-view+json": {
       "model_id": "63992b60ea914d159f44c6ba08645a4f",
       "version_major": 2,
       "version_minor": 0
      },
      "text/plain": [
       "  0%|          | 0/10 [00:00<?, ?it/s]"
      ]
     },
     "metadata": {},
     "output_type": "display_data"
    },
    {
     "name": "stdout",
     "output_type": "stream",
     "text": [
      "(0.2515989819364374+1.3966549135904084e-17j)\n",
      "[[ 0.03733543-0.26068357j -0.17028044-0.21722891j -0.20062251-0.13306304j\n",
      "   0.21901429+0.5001403j ]\n",
      " [ 0.1869146 -0.20036754j  0.03843643+0.27156202j -0.53924832-0.09197949j\n",
      "  -0.16762591-0.15473042j]\n",
      " [ 0.21223906-0.11850431j -0.49940235-0.21820307j  0.03818002+0.27048082j\n",
      "  -0.21053464-0.16294181j]\n",
      " [-0.09089497-0.53834168j  0.15625291-0.16958496j  0.19364277-0.17965851j\n",
      "   0.03847125-0.28123655j]]\n",
      "Field: 1\n",
      "Pulse expansion terms: 1\n"
     ]
    },
    {
     "data": {
      "application/vnd.jupyter.widget-view+json": {
       "model_id": "24b0f25c21004cf98d7610e9c0b06346",
       "version_major": 2,
       "version_minor": 0
      },
      "text/plain": [
       "  0%|          | 0/50 [00:00<?, ?it/s]"
      ]
     },
     "metadata": {},
     "output_type": "display_data"
    },
    {
     "name": "stdout",
     "output_type": "stream",
     "text": [
      "(0.19686343135555956+4.371246283953123e-17j)\n",
      "[[ 0.0351144 -0.24517586j -0.16015069-0.20430626j -0.18868775-0.1251473j\n",
      "   0.20598542+0.47038763j]\n",
      " [ 0.1757953 -0.18844795j  0.0361499 +0.25540716j -0.50716917-0.08650775j\n",
      "  -0.15765407-0.14552572j]\n",
      " [ 0.19961325-0.11145465j -0.46969358-0.20522247j  0.03590874+0.25439029j\n",
      "  -0.19801022-0.15324862j]\n",
      " [-0.08548775-0.50631647j  0.14695763-0.15949658j  0.18212323-0.16897087j\n",
      "   0.03618265-0.26450617j]]\n",
      "Pulse expansion terms: 2\n"
     ]
    },
    {
     "data": {
      "application/vnd.jupyter.widget-view+json": {
       "model_id": "7e28642d4ac643f5baffb8bf618b8965",
       "version_major": 2,
       "version_minor": 0
      },
      "text/plain": [
       "  0%|          | 0/50 [00:00<?, ?it/s]"
      ]
     },
     "metadata": {},
     "output_type": "display_data"
    },
    {
     "name": "stdout",
     "output_type": "stream",
     "text": [
      "(0.19686343135555956+4.371246283953123e-17j)\n",
      "[[ 0.0351144 -0.24517586j -0.16015069-0.20430626j -0.18868775-0.1251473j\n",
      "   0.20598542+0.47038763j]\n",
      " [ 0.1757953 -0.18844795j  0.0361499 +0.25540716j -0.50716917-0.08650775j\n",
      "  -0.15765407-0.14552572j]\n",
      " [ 0.19961325-0.11145465j -0.46969358-0.20522247j  0.03590874+0.25439029j\n",
      "  -0.19801022-0.15324862j]\n",
      " [-0.08548775-0.50631647j  0.14695763-0.15949658j  0.18212323-0.16897087j\n",
      "   0.03618265-0.26450617j]]\n",
      "Field: 2\n",
      "Pulse expansion terms: 1\n"
     ]
    },
    {
     "data": {
      "application/vnd.jupyter.widget-view+json": {
       "model_id": "6681b70e0f8c4f10b6e9d0c1183d1fa2",
       "version_major": 2,
       "version_minor": 0
      },
      "text/plain": [
       "  0%|          | 0/50 [00:00<?, ?it/s]"
      ]
     },
     "metadata": {},
     "output_type": "display_data"
    },
    {
     "name": "stdout",
     "output_type": "stream",
     "text": [
      "(0.19686343135555956+4.371246283953123e-17j)\n",
      "[[ 0.0351144 -0.24517586j -0.16015069-0.20430626j -0.18868775-0.1251473j\n",
      "   0.20598542+0.47038763j]\n",
      " [ 0.1757953 -0.18844795j  0.0361499 +0.25540716j -0.50716917-0.08650775j\n",
      "  -0.15765407-0.14552572j]\n",
      " [ 0.19961325-0.11145465j -0.46969358-0.20522247j  0.03590874+0.25439029j\n",
      "  -0.19801022-0.15324862j]\n",
      " [-0.08548775-0.50631647j  0.14695763-0.15949658j  0.18212323-0.16897087j\n",
      "   0.03618265-0.26450617j]]\n",
      "Pulse expansion terms: 2\n"
     ]
    },
    {
     "data": {
      "application/vnd.jupyter.widget-view+json": {
       "model_id": "91e4c6b67b6447a0bd42b0beb54ae23f",
       "version_major": 2,
       "version_minor": 0
      },
      "text/plain": [
       "  0%|          | 0/50 [00:00<?, ?it/s]"
      ]
     },
     "metadata": {},
     "output_type": "display_data"
    },
    {
     "name": "stdout",
     "output_type": "stream",
     "text": [
      "(0.19686343135555956+4.371246283953123e-17j)\n",
      "[[ 0.0351144 -0.24517586j -0.16015069-0.20430626j -0.18868775-0.1251473j\n",
      "   0.20598542+0.47038763j]\n",
      " [ 0.1757953 -0.18844795j  0.0361499 +0.25540716j -0.50716917-0.08650775j\n",
      "  -0.15765407-0.14552572j]\n",
      " [ 0.19961325-0.11145465j -0.46969358-0.20522247j  0.03590874+0.25439029j\n",
      "  -0.19801022-0.15324862j]\n",
      " [-0.08548775-0.50631647j  0.14695763-0.15949658j  0.18212323-0.16897087j\n",
      "   0.03618265-0.26450617j]]\n",
      "Field: 3\n",
      "Pulse expansion terms: 1\n"
     ]
    },
    {
     "data": {
      "application/vnd.jupyter.widget-view+json": {
       "model_id": "825e80f793bb4c839050a3959b2eeee6",
       "version_major": 2,
       "version_minor": 0
      },
      "text/plain": [
       "  0%|          | 0/50 [00:00<?, ?it/s]"
      ]
     },
     "metadata": {},
     "output_type": "display_data"
    },
    {
     "name": "stdout",
     "output_type": "stream",
     "text": [
      "(0.19686343135555956+4.371246283953123e-17j)\n",
      "[[ 0.0351144 -0.24517586j -0.16015069-0.20430626j -0.18868775-0.1251473j\n",
      "   0.20598542+0.47038763j]\n",
      " [ 0.1757953 -0.18844795j  0.0361499 +0.25540716j -0.50716917-0.08650775j\n",
      "  -0.15765407-0.14552572j]\n",
      " [ 0.19961325-0.11145465j -0.46969358-0.20522247j  0.03590874+0.25439029j\n",
      "  -0.19801022-0.15324862j]\n",
      " [-0.08548775-0.50631647j  0.14695763-0.15949658j  0.18212323-0.16897087j\n",
      "   0.03618265-0.26450617j]]\n",
      "Pulse expansion terms: 2\n"
     ]
    },
    {
     "data": {
      "application/vnd.jupyter.widget-view+json": {
       "model_id": "81794f94659f4106ab73fa3f9cb5248a",
       "version_major": 2,
       "version_minor": 0
      },
      "text/plain": [
       "  0%|          | 0/50 [00:00<?, ?it/s]"
      ]
     },
     "metadata": {},
     "output_type": "display_data"
    },
    {
     "name": "stdout",
     "output_type": "stream",
     "text": [
      "(0.19686343135555956+4.371246283953123e-17j)\n",
      "[[ 0.0351144 -0.24517586j -0.16015069-0.20430626j -0.18868775-0.1251473j\n",
      "   0.20598542+0.47038763j]\n",
      " [ 0.1757953 -0.18844795j  0.0361499 +0.25540716j -0.50716917-0.08650775j\n",
      "  -0.15765407-0.14552572j]\n",
      " [ 0.19961325-0.11145465j -0.46969358-0.20522247j  0.03590874+0.25439029j\n",
      "  -0.19801022-0.15324862j]\n",
      " [-0.08548775-0.50631647j  0.14695763-0.15949658j  0.18212323-0.16897087j\n",
      "   0.03618265-0.26450617j]]\n",
      "Field: 4\n",
      "Pulse expansion terms: 1\n"
     ]
    },
    {
     "data": {
      "application/vnd.jupyter.widget-view+json": {
       "model_id": "a36a8a205d9f42aa987fdbda8dbeb73b",
       "version_major": 2,
       "version_minor": 0
      },
      "text/plain": [
       "  0%|          | 0/50 [00:00<?, ?it/s]"
      ]
     },
     "metadata": {},
     "output_type": "display_data"
    },
    {
     "name": "stdout",
     "output_type": "stream",
     "text": [
      "(0.19686343135555956+4.371246283953123e-17j)\n",
      "[[ 0.0351144 -0.24517586j -0.16015069-0.20430626j -0.18868775-0.1251473j\n",
      "   0.20598542+0.47038763j]\n",
      " [ 0.1757953 -0.18844795j  0.0361499 +0.25540716j -0.50716917-0.08650775j\n",
      "  -0.15765407-0.14552572j]\n",
      " [ 0.19961325-0.11145465j -0.46969358-0.20522247j  0.03590874+0.25439029j\n",
      "  -0.19801022-0.15324862j]\n",
      " [-0.08548775-0.50631647j  0.14695763-0.15949658j  0.18212323-0.16897087j\n",
      "   0.03618265-0.26450617j]]\n",
      "Pulse expansion terms: 2\n"
     ]
    },
    {
     "data": {
      "application/vnd.jupyter.widget-view+json": {
       "model_id": "4626ad5191244ae690bfb6571627600c",
       "version_major": 2,
       "version_minor": 0
      },
      "text/plain": [
       "  0%|          | 0/50 [00:00<?, ?it/s]"
      ]
     },
     "metadata": {},
     "output_type": "display_data"
    },
    {
     "name": "stdout",
     "output_type": "stream",
     "text": [
      "(0.19686343135555956+4.371246283953123e-17j)\n",
      "[[ 0.0351144 -0.24517586j -0.16015069-0.20430626j -0.18868775-0.1251473j\n",
      "   0.20598542+0.47038763j]\n",
      " [ 0.1757953 -0.18844795j  0.0361499 +0.25540716j -0.50716917-0.08650775j\n",
      "  -0.15765407-0.14552572j]\n",
      " [ 0.19961325-0.11145465j -0.46969358-0.20522247j  0.03590874+0.25439029j\n",
      "  -0.19801022-0.15324862j]\n",
      " [-0.08548775-0.50631647j  0.14695763-0.15949658j  0.18212323-0.16897087j\n",
      "   0.03618265-0.26450617j]]\n",
      "Field: 1\n",
      "Pulse expansion terms: 1\n"
     ]
    },
    {
     "data": {
      "application/vnd.jupyter.widget-view+json": {
       "model_id": "a8cf2d283c0e41dd915b6123e4fc9b75",
       "version_major": 2,
       "version_minor": 0
      },
      "text/plain": [
       "  0%|          | 0/100 [00:00<?, ?it/s]"
      ]
     },
     "metadata": {},
     "output_type": "display_data"
    },
    {
     "name": "stdout",
     "output_type": "stream",
     "text": [
      "(0.19109061638758146+5.303830052582653e-17j)\n",
      "[[ 0.03485409-0.24335837j -0.15896349-0.20279173j -0.187289  -0.12421958j\n",
      "   0.20445845+0.46690065j]\n",
      " [ 0.17449213-0.18705098j  0.03588192+0.25351382j -0.50340952-0.08586647j\n",
      "  -0.15648538-0.14444693j]\n",
      " [ 0.19813351-0.11062843j -0.46621173-0.20370115j  0.03564255+0.25250449j\n",
      "  -0.19654237-0.15211259j]\n",
      " [-0.08485403-0.50256314j  0.14586824-0.15831423j  0.18077315-0.16771828j\n",
      "   0.03591442-0.26254538j]]\n",
      "Pulse expansion terms: 2\n"
     ]
    },
    {
     "data": {
      "application/vnd.jupyter.widget-view+json": {
       "model_id": "52c3a90a9177433eb0b7ae9a3e3cf861",
       "version_major": 2,
       "version_minor": 0
      },
      "text/plain": [
       "  0%|          | 0/100 [00:00<?, ?it/s]"
      ]
     },
     "metadata": {},
     "output_type": "display_data"
    },
    {
     "name": "stdout",
     "output_type": "stream",
     "text": [
      "(0.19109061638758146+5.303830052582653e-17j)\n",
      "[[ 0.03485409-0.24335837j -0.15896349-0.20279173j -0.187289  -0.12421958j\n",
      "   0.20445845+0.46690065j]\n",
      " [ 0.17449213-0.18705098j  0.03588192+0.25351382j -0.50340952-0.08586647j\n",
      "  -0.15648538-0.14444693j]\n",
      " [ 0.19813351-0.11062843j -0.46621173-0.20370115j  0.03564255+0.25250449j\n",
      "  -0.19654237-0.15211259j]\n",
      " [-0.08485403-0.50256314j  0.14586824-0.15831423j  0.18077315-0.16771828j\n",
      "   0.03591442-0.26254538j]]\n",
      "Field: 2\n",
      "Pulse expansion terms: 1\n"
     ]
    },
    {
     "data": {
      "application/vnd.jupyter.widget-view+json": {
       "model_id": "bab4d7db71844d6cbce84f27715830e5",
       "version_major": 2,
       "version_minor": 0
      },
      "text/plain": [
       "  0%|          | 0/100 [00:00<?, ?it/s]"
      ]
     },
     "metadata": {},
     "output_type": "display_data"
    },
    {
     "name": "stdout",
     "output_type": "stream",
     "text": [
      "(0.19109061638758146+5.303830052582653e-17j)\n",
      "[[ 0.03485409-0.24335837j -0.15896349-0.20279173j -0.187289  -0.12421958j\n",
      "   0.20445845+0.46690065j]\n",
      " [ 0.17449213-0.18705098j  0.03588192+0.25351382j -0.50340952-0.08586647j\n",
      "  -0.15648538-0.14444693j]\n",
      " [ 0.19813351-0.11062843j -0.46621173-0.20370115j  0.03564255+0.25250449j\n",
      "  -0.19654237-0.15211259j]\n",
      " [-0.08485403-0.50256314j  0.14586824-0.15831423j  0.18077315-0.16771828j\n",
      "   0.03591442-0.26254538j]]\n",
      "Pulse expansion terms: 2\n"
     ]
    },
    {
     "data": {
      "application/vnd.jupyter.widget-view+json": {
       "model_id": "6a6a0857d5f84aab9e30fb621bced491",
       "version_major": 2,
       "version_minor": 0
      },
      "text/plain": [
       "  0%|          | 0/100 [00:00<?, ?it/s]"
      ]
     },
     "metadata": {},
     "output_type": "display_data"
    },
    {
     "name": "stdout",
     "output_type": "stream",
     "text": [
      "(0.19109061638758146+5.303830052582653e-17j)\n",
      "[[ 0.03485409-0.24335837j -0.15896349-0.20279173j -0.187289  -0.12421958j\n",
      "   0.20445845+0.46690065j]\n",
      " [ 0.17449213-0.18705098j  0.03588192+0.25351382j -0.50340952-0.08586647j\n",
      "  -0.15648538-0.14444693j]\n",
      " [ 0.19813351-0.11062843j -0.46621173-0.20370115j  0.03564255+0.25250449j\n",
      "  -0.19654237-0.15211259j]\n",
      " [-0.08485403-0.50256314j  0.14586824-0.15831423j  0.18077315-0.16771828j\n",
      "   0.03591442-0.26254538j]]\n",
      "Field: 3\n",
      "Pulse expansion terms: 1\n"
     ]
    },
    {
     "data": {
      "application/vnd.jupyter.widget-view+json": {
       "model_id": "d80c8bfa9e9b4d1cafaec61d012f0b20",
       "version_major": 2,
       "version_minor": 0
      },
      "text/plain": [
       "  0%|          | 0/100 [00:00<?, ?it/s]"
      ]
     },
     "metadata": {},
     "output_type": "display_data"
    },
    {
     "name": "stdout",
     "output_type": "stream",
     "text": [
      "(0.19109061638758146+5.303830052582653e-17j)\n",
      "[[ 0.03485409-0.24335837j -0.15896349-0.20279173j -0.187289  -0.12421958j\n",
      "   0.20445845+0.46690065j]\n",
      " [ 0.17449213-0.18705098j  0.03588192+0.25351382j -0.50340952-0.08586647j\n",
      "  -0.15648538-0.14444693j]\n",
      " [ 0.19813351-0.11062843j -0.46621173-0.20370115j  0.03564255+0.25250449j\n",
      "  -0.19654237-0.15211259j]\n",
      " [-0.08485403-0.50256314j  0.14586824-0.15831423j  0.18077315-0.16771828j\n",
      "   0.03591442-0.26254538j]]\n",
      "Pulse expansion terms: 2\n"
     ]
    },
    {
     "data": {
      "application/vnd.jupyter.widget-view+json": {
       "model_id": "ecd6b01bd5024751ad887b852c85fef4",
       "version_major": 2,
       "version_minor": 0
      },
      "text/plain": [
       "  0%|          | 0/100 [00:00<?, ?it/s]"
      ]
     },
     "metadata": {},
     "output_type": "display_data"
    },
    {
     "name": "stdout",
     "output_type": "stream",
     "text": [
      "(0.19109061638758146+5.303830052582653e-17j)\n",
      "[[ 0.03485409-0.24335837j -0.15896349-0.20279173j -0.187289  -0.12421958j\n",
      "   0.20445845+0.46690065j]\n",
      " [ 0.17449213-0.18705098j  0.03588192+0.25351382j -0.50340952-0.08586647j\n",
      "  -0.15648538-0.14444693j]\n",
      " [ 0.19813351-0.11062843j -0.46621173-0.20370115j  0.03564255+0.25250449j\n",
      "  -0.19654237-0.15211259j]\n",
      " [-0.08485403-0.50256314j  0.14586824-0.15831423j  0.18077315-0.16771828j\n",
      "   0.03591442-0.26254538j]]\n",
      "Field: 4\n",
      "Pulse expansion terms: 1\n"
     ]
    },
    {
     "data": {
      "application/vnd.jupyter.widget-view+json": {
       "model_id": "831057dd5028492d849da4520eae5a5a",
       "version_major": 2,
       "version_minor": 0
      },
      "text/plain": [
       "  0%|          | 0/100 [00:00<?, ?it/s]"
      ]
     },
     "metadata": {},
     "output_type": "display_data"
    },
    {
     "name": "stdout",
     "output_type": "stream",
     "text": [
      "(0.19109061638758146+5.303830052582653e-17j)\n",
      "[[ 0.03485409-0.24335837j -0.15896349-0.20279173j -0.187289  -0.12421958j\n",
      "   0.20445845+0.46690065j]\n",
      " [ 0.17449213-0.18705098j  0.03588192+0.25351382j -0.50340952-0.08586647j\n",
      "  -0.15648538-0.14444693j]\n",
      " [ 0.19813351-0.11062843j -0.46621173-0.20370115j  0.03564255+0.25250449j\n",
      "  -0.19654237-0.15211259j]\n",
      " [-0.08485403-0.50256314j  0.14586824-0.15831423j  0.18077315-0.16771828j\n",
      "   0.03591442-0.26254538j]]\n",
      "Pulse expansion terms: 2\n"
     ]
    },
    {
     "data": {
      "application/vnd.jupyter.widget-view+json": {
       "model_id": "4660209651f64cd5b790f45346cdc7ca",
       "version_major": 2,
       "version_minor": 0
      },
      "text/plain": [
       "  0%|          | 0/100 [00:00<?, ?it/s]"
      ]
     },
     "metadata": {},
     "output_type": "display_data"
    },
    {
     "name": "stdout",
     "output_type": "stream",
     "text": [
      "(0.19109061638758146+5.303830052582653e-17j)\n",
      "[[ 0.03485409-0.24335837j -0.15896349-0.20279173j -0.187289  -0.12421958j\n",
      "   0.20445845+0.46690065j]\n",
      " [ 0.17449213-0.18705098j  0.03588192+0.25351382j -0.50340952-0.08586647j\n",
      "  -0.15648538-0.14444693j]\n",
      " [ 0.19813351-0.11062843j -0.46621173-0.20370115j  0.03564255+0.25250449j\n",
      "  -0.19654237-0.15211259j]\n",
      " [-0.08485403-0.50256314j  0.14586824-0.15831423j  0.18077315-0.16771828j\n",
      "   0.03591442-0.26254538j]]\n"
     ]
    }
   ],
   "source": [
    "for n_steps in X:\n",
    "\n",
    "    determinant_matrix = np.zeros((total_control_fields, pulse_basis))\n",
    "    # eigenvalues_matrix = np.empty((total_control_fields, pulse_basis), dtype=object)\n",
    "\n",
    "    for k in range(total_control_fields):\n",
    "        print(f'Field: {k+1}')\n",
    "        for n in range(pulse_basis):\n",
    "\n",
    "            print(f'Pulse expansion terms: {n+1}')\n",
    "            derivative = local_surjectivity(k,n, t0, tf, n_steps)\n",
    "            eigenvalues_array = np.linalg.det(derivative)\n",
    "            determinant_matrix[k,n] = eigenvalues_array\n",
    "            print(eigenvalues_array)\n",
    "\n",
    "            print(derivative)\n",
    "\n",
    "\n",
    "    determinant_dictionary[f'{n_steps}'] = determinant_matrix"
   ]
  },
  {
   "cell_type": "code",
   "execution_count": 13,
   "metadata": {},
   "outputs": [
    {
     "data": {
      "text/plain": [
       "{'10': tensor([[0.25159898, 0.25159898],\n",
       "         [0.25159898, 0.25159898],\n",
       "         [0.25159898, 0.25159898],\n",
       "         [0.25159898, 0.25159898]], requires_grad=True),\n",
       " '50': tensor([[0.19686343, 0.19686343],\n",
       "         [0.19686343, 0.19686343],\n",
       "         [0.19686343, 0.19686343],\n",
       "         [0.19686343, 0.19686343]], requires_grad=True),\n",
       " '100': tensor([[0.19109062, 0.19109062],\n",
       "         [0.19109062, 0.19109062],\n",
       "         [0.19109062, 0.19109062],\n",
       "         [0.19109062, 0.19109062]], requires_grad=True)}"
      ]
     },
     "execution_count": 13,
     "metadata": {},
     "output_type": "execute_result"
    }
   ],
   "source": [
    "determinant_dictionary"
   ]
  },
  {
   "cell_type": "code",
   "execution_count": 14,
   "metadata": {},
   "outputs": [],
   "source": [
    "total_pulse_data = []\n",
    "\n",
    "\n",
    "for k in range(total_control_fields):\n",
    "    for n in range(pulse_basis):\n",
    "\n",
    "        determinant_data = []\n",
    "\n",
    "        for key in determinant_dictionary:\n",
    "\n",
    "            determinants = determinant_dictionary[key]\n",
    "            \n",
    "            determinant_data.append(determinants[k,n])\n",
    "\n",
    "        total_pulse_data.append(determinant_data)"
   ]
  },
  {
   "cell_type": "code",
   "execution_count": 15,
   "metadata": {},
   "outputs": [
    {
     "data": {
      "text/plain": [
       "tensor([[0.25159898, 0.19686343, 0.19109062],\n",
       "        [0.25159898, 0.19686343, 0.19109062],\n",
       "        [0.25159898, 0.19686343, 0.19109062],\n",
       "        [0.25159898, 0.19686343, 0.19109062],\n",
       "        [0.25159898, 0.19686343, 0.19109062],\n",
       "        [0.25159898, 0.19686343, 0.19109062],\n",
       "        [0.25159898, 0.19686343, 0.19109062],\n",
       "        [0.25159898, 0.19686343, 0.19109062]], requires_grad=True)"
      ]
     },
     "execution_count": 15,
     "metadata": {},
     "output_type": "execute_result"
    }
   ],
   "source": [
    "data_array = np.array(total_pulse_data)\n",
    "\n",
    "data_array"
   ]
  },
  {
   "cell_type": "code",
   "execution_count": 16,
   "metadata": {},
   "outputs": [
    {
     "data": {
      "image/png": "[encoded data removed]",
      "text/plain": [
       "<Figure size 2000x2800 with 8 Axes>"
      ]
     },
     "metadata": {},
     "output_type": "display_data"
    }
   ],
   "source": [
    "import matplotlib.pyplot as plt\n",
    "\n",
    "data_array = np.reshape(data_array, (-1,2,3))\n",
    "\n",
    "n_cols, n_rows, _ = data_array.shape\n",
    "\n",
    "fig, axes = plt.subplots(n_rows, n_cols, figsize=(20, 7*n_cols))\n",
    "axes.shape\n",
    "\n",
    "for ii in range(n_rows):\n",
    "    for jj in range(n_cols):\n",
    "        axes[ii,jj].plot(X, data_array[jj,ii], '--bo')\n",
    "\n",
    "\n",
    "for i in range(n_rows):\n",
    "    axes[i, 0].set_ylabel('det($\\\\frac{\\\\partial U}{\\\\partial \\\\theta_{'+ str(i) +'}}$)')\n",
    "\n",
    "for i in range(n_cols):\n",
    "    axes[0, i].set_title(f'Field {i+1}')\n",
    "\n",
    "for i in range(n_cols):\n",
    "    axes[n_rows-1, i].set_xlabel(f'Integration Steps')   \n",
    "\n",
    "plt.show() "
   ]
  },
  {
   "cell_type": "markdown",
   "metadata": {},
   "source": [
    "{'25': tensor([[1.17737567e+00, 7.35859805e-02, 1.38621555e-08, 1.12907940e-04,\n",
    "          8.19998575e-07],\n",
    "         [1.17737567e+00, 7.35859805e-02, 1.38621555e-08, 1.12907940e-04,\n",
    "          8.19998575e-07],\n",
    "         [1.17737567e+00, 7.35859805e-02, 1.38621555e-08, 1.12907940e-04,\n",
    "          8.19998575e-07],\n",
    "         [1.17737567e+00, 7.35859805e-02, 1.38621555e-08, 1.12907940e-04,\n",
    "          8.19998575e-07]], requires_grad=True),\n",
    " '50': tensor([[1.08416576e+00, 6.77603604e-02, 7.34635892e-10, 1.72092559e-04,\n",
    "          4.27320243e-08],\n",
    "         [1.08416576e+00, 6.77603604e-02, 7.34635892e-10, 1.72092559e-04,\n",
    "          4.27320243e-08],\n",
    "         [1.08416576e+00, 6.77603604e-02, 7.34635892e-10, 1.72092559e-04,\n",
    "          4.27320243e-08],\n",
    "         [1.08416576e+00, 6.77603604e-02, 7.34635892e-10, 1.72092559e-04,\n",
    "          4.27320243e-08]], requires_grad=True),\n",
    " '75': tensor([[1.05515962e+00, 6.59474772e-02, 1.37452438e-10, 1.94727673e-04,\n",
    "          7.95037401e-09],\n",
    "         [1.05515962e+00, 6.59474772e-02, 1.37452438e-10, 1.94727673e-04,\n",
    "          7.95037401e-09],\n",
    "         [1.05515962e+00, 6.59474772e-02, 1.37452438e-10, 1.94727673e-04,\n",
    "          7.95037401e-09],\n",
    "         [1.05515962e+00, 6.59474772e-02, 1.37452438e-10, 1.94727673e-04,\n",
    "          7.95037401e-09]], requires_grad=True)}"
   ]
  }
 ],
 "metadata": {
  "kernelspec": {
   "display_name": "perceptron_venv",
   "language": "python",
   "name": "python3"
  },
  "language_info": {
   "codemirror_mode": {
    "name": "ipython",
    "version": 3
   },
   "file_extension": ".py",
   "mimetype": "text/x-python",
   "name": "python",
   "nbconvert_exporter": "python",
   "pygments_lexer": "ipython3",
   "version": "3.11.3"
  },
  "orig_nbformat": 4
 },
 "nbformat": 4,
 "nbformat_minor": 2
}
