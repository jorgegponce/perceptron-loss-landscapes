{
 "cells": [
  {
   "cell_type": "code",
   "execution_count": 1,
   "metadata": {},
   "outputs": [],
   "source": [
    "import os"
   ]
  },
  {
   "cell_type": "code",
   "execution_count": 2,
   "metadata": {},
   "outputs": [],
   "source": [
    "# Template content\n",
    "template = \"\"\"#!/bin/bash\n",
    "#SBATCH -J analog_perceptron_${QUBITS}_qubit_${BASIS}_pulses_${TMODEL}_tmodel\n",
    "#SBATCH -c 1 # Number of cores\n",
    "#SBATCH -p shared\n",
    "#SBATCH --mem 16000\n",
    "#SBATCH -t ${DAYS}-${HOURS}:${MINUTES} # Maximum execution time (D-HH:MM)\n",
    "#SBATCH -o '/n/home08/jgarciaponce/Yelin/perceptron-loss-landscapes/Evolution Time Experiments/RESULTS/${QUBITS}_qubits/${BASIS}_pulses_${TMODEL}_tmodel/perceptron_%A_%a.out' # Standard output\n",
    "#SBATCH -e '/n/home08/jgarciaponce/Yelin/perceptron-loss-landscapes/Evolution Time Experiments/RESULTS/${QUBITS}_qubits/${BASIS}_pulses_${TMODEL}_tmodel/perceptron_%A_%a.err' # Standard error\n",
    "#SBATCH --array=1-10  # Size of the array\n",
    "\n",
    "conda activate perceptron-loss-landscapes-venv\n",
    "\n",
    "mkdir -p \"/n/home08/jgarciaponce/Yelin/perceptron-loss-landscapes/Evolution Time Experiments/RESULTS/${QUBITS}_qubits/${BASIS}_pulses_${TMODEL}_tmodel\"\n",
    "\n",
    "mkdir -p \"/n/home08/jgarciaponce/Yelin/perceptron-loss-landscapes/Evolution Time Experiments/RESULTS/${QUBITS}_qubits/${BASIS}_pulses_${TMODEL}_tmodel/${SLURM_ARRAY_TASK_ID}\"\n",
    "\n",
    "cd \"/n/home08/jgarciaponce/Yelin/perceptron-loss-landscapes/Evolution Time Experiments/\"\n",
    "\n",
    "python \"/n/home08/jgarciaponce/Yelin/perceptron-loss-landscapes/Evolution Time Experiments/full_perceptron.py\" --qubits ${QUBITS} --pulses ${BASIS} --model_time ${TMODEL} --loss_time 1 --learning_rate ${LR} --save_path RESULTS/${QUBITS}_qubits/${BASIS}_pulses_${TMODEL}_tmodel/${SLURM_ARRAY_TASK_ID}/${BASIS}_pulses_${TMODEL}_tmodel_simulation_data.pickle\n",
    "\"\"\"\n"
   ]
  },
  {
   "cell_type": "code",
   "execution_count": 3,
   "metadata": {},
   "outputs": [],
   "source": [
    "# Parameters\n",
    "qubits = 4\n",
    "tmodel = 1\n",
    "lr = 0.1\n",
    "bases = range(5, 105, 5)\n",
    "days = 0\n",
    "hours = 2\n",
    "minutes = 0"
   ]
  },
  {
   "cell_type": "code",
   "execution_count": 4,
   "metadata": {},
   "outputs": [
    {
     "name": "stdout",
     "output_type": "stream",
     "text": [
      "Generated files in BATCH_JOBS\n"
     ]
    }
   ],
   "source": [
    "\n",
    "# Output directory\n",
    "output_dir = \"BATCH_JOBS\"\n",
    "os.makedirs(output_dir, exist_ok=True)\n",
    "\n",
    "# Generate scripts\n",
    "\n",
    "for basis in bases:\n",
    "    output_file = f\"BATCH_{qubits}_qubits_{basis}_pulses_{tmodel}_tmodel.sh\"\n",
    "    output_path = os.path.join(output_dir, output_file)\n",
    "    content = template.replace(\"${QUBITS}\", str(qubits))\n",
    "    content = content.replace(\"${BASIS}\", str(basis))\n",
    "    content = content.replace(\"${TMODEL}\", str(tmodel))\n",
    "    content = content.replace(\"${DAYS}\", str(days))\n",
    "    content = content.replace(\"${HOURS}\", str(hours))\n",
    "    content = content.replace(\"${MINUTES}\", str(minutes))\n",
    "    content = content.replace(\"${LR}\", str(lr))\n",
    "    \n",
    "    with open(output_path, \"w\") as f:\n",
    "        f.write(content)\n",
    "    \n",
    "    # os.chmod(output_path, 0o755)\n",
    "\n",
    "print(f\"Generated files in {output_dir}\")"
   ]
  }
 ],
 "metadata": {
  "kernelspec": {
   "display_name": ".venv",
   "language": "python",
   "name": "python3"
  },
  "language_info": {
   "codemirror_mode": {
    "name": "ipython",
    "version": 3
   },
   "file_extension": ".py",
   "mimetype": "text/x-python",
   "name": "python",
   "nbconvert_exporter": "python",
   "pygments_lexer": "ipython3",
   "version": "3.11.3"
  }
 },
 "nbformat": 4,
 "nbformat_minor": 2
}
