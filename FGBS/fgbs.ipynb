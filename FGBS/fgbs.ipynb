{
 "cells": [
  {
   "cell_type": "code",
   "execution_count": 1,
   "metadata": {},
   "outputs": [],
   "source": [
    "import pickle \n",
    "import pennylane as qml\n",
    "import pennylane.numpy as np\n",
    "import jax\n",
    "import jax.numpy as jnp\n",
    "import optax\n",
    "import jaxopt\n",
    "\n",
    "\n",
    "import os, sys, argparse\n",
    "\n",
    "parent = os.path.abspath('../src')\n",
    "sys.path.insert(1, parent)\n",
    "\n",
    "from perceptron import Perceptron\n",
    "\n",
    "from perceptron import NativePerceptron\n",
    "import time \n",
    "\n",
    "import matplotlib.pyplot as plt\n"
   ]
  },
  {
   "cell_type": "code",
   "execution_count": 2,
   "metadata": {},
   "outputs": [
    {
     "name": "stderr",
     "output_type": "stream",
     "text": [
      "WARNING: All log messages before absl::InitializeLog() is called are written to STDERR\n",
      "I0000 00:00:1708315518.244198       1 tfrt_cpu_pjrt_client.cc:349] TfrtCpuClient created.\n",
      "/Users/jorgegarciaponce/Research/Yelin/PerceptronLossLandscapes/.venv/lib/python3.11/site-packages/pennylane/ops/functions/eigvals.py:108: UserWarning: For Hamiltonians, the eigenvalues will be computed numerically. This may be computationally intensive for a large number of wires. Consider using a sparse representation of the Hamiltonian with qml.SparseHamiltonian.\n",
      "  warnings.warn(\n"
     ]
    }
   ],
   "source": [
    "Ntrials=100\n",
    "N=4\n",
    "P=5*N\n",
    "\n",
    "\n",
    "jax.config.update(\"jax_enable_x64\", True)\n",
    "jax.config.update(\"jax_platform_name\", \"cpu\")\n",
    "\n",
    "# Setting up the quantum perceptron problem\n",
    "perceptron_qubits = N\n",
    "n_axis=2\n",
    "pulse_basis = P\n",
    "sigma=0.1\n",
    "save_path = ''\n",
    "n_epochs = 200\n",
    "\n",
    "ts = jnp.array([1.0])\n",
    "t = 1\n",
    "times = jnp.linspace(0,t, pulse_basis+2)[1:-1]\n",
    "dev = qml.device(\"default.qubit.jax\", wires=perceptron_qubits)\n",
    "\n",
    "#Setting up perceptron\n",
    "perceptron = NativePerceptron(perceptron_qubits, pulse_basis, basis='fourier', pulse_width=sigma, native_coupling=1)\n",
    "H = perceptron.H\n",
    "\n",
    "\n",
    "H_obj, H_obj_spectrum = perceptron.get_1d_ising_hamiltonian(0.1)\n",
    "W = qml.matrix(qml.evolve(H_obj, coeff=1))\n",
    "\n",
    "hcs = [qml.PauliX(n) for n in range(perceptron_qubits)]\n",
    "hcs+= [qml.PauliY(n) for n in range(perceptron_qubits)]\n",
    "\n",
    "\n",
    "@jax.jit\n",
    "def loss(param_vector):\n",
    "    param_list = perceptron.vector_to_hamiltonian_parameters(param_vector)\n",
    "    U = qml.matrix(qml.evolve(perceptron.H)(param_list, t))\n",
    "    \n",
    "    return qml.math.frobenius_inner_product(jnp.conjugate(U-W), U-W).real\n"
   ]
  },
  {
   "cell_type": "code",
   "execution_count": 3,
   "metadata": {},
   "outputs": [
    {
     "name": "stdout",
     "output_type": "stream",
     "text": [
      "Final loss:  14.463098351332391\n",
      "Max grad:  0.00034394366469295474\n"
     ]
    }
   ],
   "source": [
    "random_seed = int(time.time() * 1000)\n",
    "param_vector = perceptron.get_random_parameter_vector(random_seed)\n",
    "\n",
    "solver = jaxopt.LBFGS(loss,maxiter=1000)\n",
    "\n",
    "res=solver.run(param_vector)\n",
    "\n",
    "print('Final loss: ', res.state.value)\n",
    "print('Max grad: ', np.max(res.state.grad))\n"
   ]
  },
  {
   "cell_type": "code",
   "execution_count": 53,
   "metadata": {},
   "outputs": [
    {
     "name": "stdout",
     "output_type": "stream",
     "text": [
      "28.828260482544017\n"
     ]
    }
   ],
   "source": [
    "random_seed = int(time.time() * 1000)\n",
    "print(loss(perceptron.get_random_parameter_vector(random_seed)))\n"
   ]
  },
  {
   "cell_type": "code",
   "execution_count": 4,
   "metadata": {},
   "outputs": [
    {
     "data": {
      "text/plain": [
       "Array([ 1.50030337e-01,  2.98020627e-01,  2.73625758e-01,  2.16755777e-01,\n",
       "        3.75886420e-01,  2.54269227e-01,  2.94418476e-01,  2.64722767e-01,\n",
       "        3.38836758e-01,  2.66611888e-01,  2.90807854e-01,  2.96020825e-01,\n",
       "        3.17655938e-01,  2.86353960e-01,  3.04522650e-01,  2.86969655e-01,\n",
       "        2.84762637e-01,  2.58207542e-01,  2.63904294e-01,  3.13299893e-01,\n",
       "        2.15430887e-01,  3.23372165e-01,  3.67676056e-01,  2.23407878e-01,\n",
       "        5.03169293e-01,  3.06888072e-01,  3.62825570e-01,  3.15884533e-01,\n",
       "        4.12356795e-01,  3.61661408e-01,  3.35834166e-01,  3.70987430e-01,\n",
       "        3.49376230e-01,  3.65405312e-01,  3.54721349e-01,  3.59567604e-01,\n",
       "        3.15476881e-01,  3.89139899e-01,  3.73112284e-01,  3.66674193e-01,\n",
       "        6.68169478e-01,  6.35309339e+00,  3.99863200e-02,  6.08469133e+00,\n",
       "        8.37435869e-01,  6.65217304e+00,  1.70705448e-01,  6.20249836e+00,\n",
       "        3.81395184e-01,  6.42829485e+00,  7.80425617e-01,  6.73841564e+00,\n",
       "        5.63928471e-01,  6.38794934e+00,  4.84324236e-01,  5.93566312e+00,\n",
       "        2.95965682e-01,  5.36222987e+00,  2.14838997e-01,  4.81266901e+00,\n",
       "        6.28959573e-02,  4.80111034e-01, -1.02329639e+00, -1.87945099e+00,\n",
       "        2.56916759e+00, -1.42658507e+00,  6.78879267e-01, -1.74295859e+00,\n",
       "        1.79444320e+00, -1.28568321e+00,  8.12662195e-01, -9.17827658e-01,\n",
       "        7.29541611e-01, -9.06660302e-01,  8.95904917e-01, -8.24653065e-01,\n",
       "        7.36223177e-01, -7.93979595e-01,  8.10506980e-01, -7.05636906e-01,\n",
       "       -7.04238086e-05, -7.58406437e-04,  6.67369167e-04, -9.17765999e-04,\n",
       "        4.76874956e-04,  8.73527500e-04, -2.27485879e-03,  6.02300254e-03,\n",
       "        7.89807549e-03, -9.42113461e-03, -4.61496808e-03,  6.91965886e-03,\n",
       "        1.78152487e-02,  6.09038894e-03,  8.63520875e-03, -8.14591639e-03,\n",
       "        1.71282872e-04, -9.64823696e-03, -4.85973190e-02, -1.48123306e-03,\n",
       "        3.56823999e-04,  6.59364847e-03, -1.61477807e-02,  1.46694286e-02,\n",
       "       -3.89426745e-03,  2.27276640e-02, -2.22474759e-02,  1.31115845e-02,\n",
       "        6.68314412e-03, -6.17651387e-03, -1.22926492e-03,  1.14218918e-02,\n",
       "        2.63557487e-02, -4.80591499e-03,  1.75384741e-02, -1.24135824e-02,\n",
       "       -1.70332037e-02, -4.64298498e-02, -8.10609142e-02, -5.97408750e-02,\n",
       "       -2.31737789e+00,  2.17677672e+00,  1.08523590e+00,  3.87107289e+00,\n",
       "       -1.94094161e+00, -1.11182396e+00,  2.26195772e+00,  1.11682223e+00,\n",
       "       -1.03533296e-01,  1.67124190e+00, -7.43792878e-01,  7.76279683e-01,\n",
       "        3.67019707e-01,  1.36159823e+00, -8.99162543e-02,  6.47802611e-01,\n",
       "        4.75321709e-01,  8.91231746e-01, -4.19344882e-01,  9.78843513e-01,\n",
       "        3.81981912e-02, -2.29283624e-01,  1.50682291e+00, -2.49667233e+00,\n",
       "        5.55066600e-01,  9.77554278e-01, -1.63146360e-01, -3.89759340e-01,\n",
       "       -7.54203094e-01,  8.66871596e-01, -4.04194350e-01,  5.62688594e-01,\n",
       "       -5.54874020e-01,  3.87852585e-01, -4.32062309e-01,  4.12098687e-01,\n",
       "       -4.15870615e-01,  3.53138674e-01, -3.86993600e-01,  4.98838827e-01],      dtype=float64)"
      ]
     },
     "execution_count": 4,
     "metadata": {},
     "output_type": "execute_result"
    }
   ],
   "source": [
    "res.params"
   ]
  }
 ],
 "metadata": {
  "kernelspec": {
   "display_name": ".venv",
   "language": "python",
   "name": "python3"
  },
  "language_info": {
   "codemirror_mode": {
    "name": "ipython",
    "version": 3
   },
   "file_extension": ".py",
   "mimetype": "text/x-python",
   "name": "python",
   "nbconvert_exporter": "python",
   "pygments_lexer": "ipython3",
   "version": "3.11.3"
  }
 },
 "nbformat": 4,
 "nbformat_minor": 2
}
