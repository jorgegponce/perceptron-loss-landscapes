{
 "cells": [
  {
   "cell_type": "code",
   "execution_count": 1,
   "metadata": {},
   "outputs": [],
   "source": [
    "import pennylane as qml\n",
    "import pennylane.numpy as np\n",
    "import jax.numpy as jnp\n",
    "from scipy.special import legendre\n",
    "import jax\n",
    "import optax\n",
    "\n",
    "from time import time\n",
    "import pickle\n",
    "\n",
    "import matplotlib.pyplot as plt\n",
    "\n",
    "\n",
    "import os, sys, argparse\n",
    "\n",
    "parent = os.path.abspath('../src')\n",
    "sys.path.insert(1, parent)\n",
    "\n",
    "from perceptron import NativePerceptron\n",
    "\n",
    "# Set to float64 precision and remove jax CPU/GPU warning\n",
    "jax.config.update(\"jax_enable_x64\", True)\n",
    "jax.config.update(\"jax_platform_name\", \"cpu\")\n"
   ]
  },
  {
   "cell_type": "markdown",
   "metadata": {},
   "source": []
  },
  {
   "cell_type": "code",
   "execution_count": 2,
   "metadata": {},
   "outputs": [],
   "source": [
    "class Perceptron():\n",
    "\n",
    "    # dev1 = qml.device(\"default.qubit\", wires=4)\n",
    "\n",
    "\n",
    "    # def __init__(self, n_qubits, control_fields, loss_hamiltonian_list, time=1.0, n_basis = 5, basis='Fourier', initial_psi=None, js=None, vs=None, constrained=False):\n",
    "\n",
    "    def __init__(self, n_qubits, time=1.0, n_basis = 5, basis='Fourier', initial_psi=None, js=None, vs=None, constrained=False):\n",
    "\n",
    "        self.n_qubits = n_qubits\n",
    "        # self.native_hamiltonian_graph = native_hamiltonian_graph\n",
    "        # self.control_fields=control_fields\n",
    "        # self.loss_hamiltonian_list=loss_hamiltonian_list\n",
    "        self.time=time\n",
    "        self.n_basis=n_basis\n",
    "        self.basis=basis\n",
    "        # self.method=method\n",
    "        self.constrained = constrained\n",
    "        \n",
    "        # if js is None: self.js = np.random.rand(len(self.native_hamiltonian_graph))\n",
    "        if js is None: self.js = np.random.rand(n_qubits-1, requires_grad = True)\n",
    "        else: self.js = js\n",
    "        \n",
    "        # if vs is None: self.vs =  np.random.rand([len(self.control_fields), n_basis])\n",
    "        if vs is None: self.vs =  np.random.rand(2*n_qubits, n_basis, requires_grad = True)\n",
    "        else: self.vs = vs\n",
    "        \n",
    "        if initial_psi is None:\n",
    "            self.initial_psi = np.zeros(2**self.n_qubits)\n",
    "            self.initial_psi[0] = 1.0\n",
    "        else: self.initial_psi = initial_psi\n",
    "        \n",
    "        # self.sx = torch.tensor([[0j,1.],[1.,0j]])\n",
    "        # self.sy = torch.tensor([[0.,-1j],[1j,0.]])\n",
    "        # self.sz = torch.tensor([[1.,0j],[0,-1.]])\n",
    "        # self.I2 = torch.tensor([[1.0, 0j],[0,1.]])\n",
    "        \n",
    "\n",
    "        self.perceptron_hamiltonian = self.get_system_hamiltonian()\n",
    "\n",
    "    def get_hamiltonian(self, params):\n",
    "\n",
    "        # building the native hamiltonian\n",
    "        native_hamiltonian_graph = [qml.PauliZ(i) @ qml.PauliZ(self.n_qubits-1) for i in range((self.n_qubits-1))]\n",
    "        native_hamiltonian = qml.Hamiltonian(params[:self.n_qubits-1], native_hamiltonian_graph)\n",
    "\n",
    "        # building the control hamiltonian\n",
    "        control_hamiltonian_operators = [qml.PauliY(i) for i in range(self.n_qubits)]\n",
    "        control_hamiltonian_operators += [qml.PauliX(i) for i in range(self.n_qubits)]\n",
    "        control_hamiltonian = qml.Hamiltonian(params[self.n_qubits-1:], control_hamiltonian_operators)\n",
    "\n",
    "        return native_hamiltonian + control_hamiltonian\n",
    "\n",
    "    def get_system_hamiltonian(self):\n",
    "\n",
    "        # building the native hamiltonian\n",
    "        self.native_hamiltonian_graph = [qml.PauliZ(i) @ qml.PauliZ(self.n_qubits-1) for i in range((self.n_qubits-1))]\n",
    "        self.native_hamiltonian = qml.Hamiltonian(self.js, self.native_hamiltonian_graph)\n",
    "\n",
    "        # building the control hamiltonian\n",
    "\n",
    "        self.control_hamiltonian_operators = [qml.PauliY(i) for i in range(self.n_qubits)]\n",
    "        self.control_hamiltonian_operators += [qml.PauliX(i) for i in range(self.n_qubits)]\n",
    "\n",
    "        def system_hamiltonian(t):\n",
    "            # for i in range(2*n_qubits):\n",
    "            #     control_hamiltonian_coefficients.append(self.generate_p(i))\n",
    "\n",
    "            control_hamiltonian_coefficients = [self.generate_p(i)(t) for i in range(2*n_qubits)]\n",
    "\n",
    "            control_hamiltonian = qml.Hamiltonian(control_hamiltonian_coefficients, self.control_hamiltonian_operators)\n",
    "\n",
    "            return control_hamiltonian + self.native_hamiltonian\n",
    "\n",
    "        return system_hamiltonian\n",
    "\n",
    "\n",
    "\n",
    "    def generate_p(self, i):\n",
    "        \"\"\"Generate the function p_i(t) for H_i\n",
    "        Args:\n",
    "            i: index of the H_i.\n",
    "            coefficient of shape [nqubits, 2] \n",
    "        Returns:\n",
    "            p: function p_i(t).\n",
    "        \"\"\"\n",
    "\n",
    "        def p(t):\n",
    "            if self.basis == 'Fourier':\n",
    "                u = np.dot(self.vs[i,:],np.cos(2*np.pi*(t/self.time)*np.arange(self.n_basis)))\n",
    "            elif self.basis == 'poly':\n",
    "                u = np.dot(self.vs[i,:],(t/self.time)**np.arange(self.n_basis))\n",
    "            # elif self.basis == 'Legendre':\n",
    "            #     u = torch.dot(self.vs[i,:],lp(t/self.time, torch.arange(self.n_basis)))\n",
    "\n",
    "            return u\n",
    "        \n",
    "        return p\n",
    "        \n",
    "\n",
    "    def setup_time_evolution_circuit(self, t, dt, trotter_number=1):\n",
    "\n",
    "        times = np.arange(0, t, dt)\n",
    "\n",
    "        for time in times:\n",
    "\n",
    "            qml.ApproxTimeEvolution(self.perceptron_hamiltonian(time) , dt, trotter_number)\n",
    "        \n",
    "\n",
    "    def loss(self, t, dt, trotter_number, loss_hamiltonian):\n",
    "\n",
    "        self.forward(t, dt, trotter_number)\n",
    "\n",
    "        return qml.expval(loss_hamiltonian)\n",
    "\n",
    "\n"
   ]
  },
  {
   "cell_type": "code",
   "execution_count": 3,
   "metadata": {},
   "outputs": [
    {
     "name": "stdout",
     "output_type": "stream",
     "text": [
      "  (0.3848514445843555) [Y1]\n",
      "+ (0.4933422761463815) [X2]\n",
      "+ (0.582733092655832) [X0]\n",
      "+ (0.7381856450642311) [Y0]\n",
      "+ (0.79533702102278) [Y2]\n",
      "+ (0.8643771265581542) [Y3]\n",
      "+ (0.8852899135769564) [X1]\n",
      "+ (0.9684973811950135) [X3]\n",
      "+ (0.285459521031161) [Z2 Z3]\n",
      "+ (0.894558538105331) [Z1 Z3]\n",
      "+ (0.9866023861152542) [Z0 Z3]\n"
     ]
    }
   ],
   "source": [
    "\n",
    "n_qubits = 4\n",
    "\n",
    "dev1 = qml.device(\"default.qubit\", wires=n_qubits)\n",
    "\n",
    "perceptron = Perceptron(n_qubits)\n",
    "\n",
    "\n",
    "perceptron_hamiltonian = perceptron.get_hamiltonian\n",
    "\n",
    "\n",
    "perceptron_hamiltonian([np.random.uniform() for i in range(n_qubits*3 - 1)])\n",
    "\n"
   ]
  },
  {
   "cell_type": "code",
   "execution_count": 4,
   "metadata": {},
   "outputs": [],
   "source": [
    "time_evolution_steps = 10\n",
    "\n",
    "params = np.array([np.random.uniform() for i in range((n_qubits*3 - 1)*time_evolution_steps)], requires_grad=True)\n",
    "\n",
    "\n",
    "dev = qml.device(\"default.qubit\", wires=n_qubits)\n",
    "@qml.qnode(dev)\n",
    "def circuit(params):\n",
    "\n",
    "    padding = n_qubits*3 - 1\n",
    "\n",
    "    # for i in range(n_qubits): # Making the initial CSS\n",
    "    #     qml.Hadamard(wires=i)\n",
    "\n",
    "    for jj in range(time_evolution_steps):\n",
    "\n",
    "        H = perceptron.get_hamiltonian(params[padding*jj: padding*(jj+1)])\n",
    "\n",
    "        qml.evolve(H, num_steps = 5)\n",
    "\n",
    "        # qml.adjoint(qml.evolve(H, num_steps = 2))\n",
    "\n",
    "\n",
    "    return qml.state()\n"
   ]
  },
  {
   "cell_type": "code",
   "execution_count": 5,
   "metadata": {},
   "outputs": [
    {
     "data": {
      "text/plain": [
       "tensor([-0.05935781-0.15310362j,  0.27500037-0.09380616j,\n",
       "        -0.01264819-0.33942096j,  0.07812628-0.04002943j,\n",
       "        -0.24011975-0.03132301j,  0.20094608+0.08365903j,\n",
       "         0.05161362-0.1783771j ,  0.2146001 -0.35139339j,\n",
       "        -0.11216917+0.22537544j, -0.06477491+0.00750952j,\n",
       "        -0.11276834-0.22243636j, -0.04925616+0.27232908j,\n",
       "        -0.15076508+0.2498425j , -0.20032332+0.12599186j,\n",
       "         0.03896467+0.16703943j, -0.271431  -0.0696185j ], requires_grad=True)"
      ]
     },
     "execution_count": 5,
     "metadata": {},
     "output_type": "execute_result"
    }
   ],
   "source": [
    "circuit(params)"
   ]
  },
  {
   "cell_type": "code",
   "execution_count": 6,
   "metadata": {},
   "outputs": [
    {
     "name": "stderr",
     "output_type": "stream",
     "text": [
      "/Users/jorgegarciaponce/Research/Yelin/PerceptronLossLandscapes/.venv/lib/python3.11/site-packages/pennylane/drawer/mpldrawer.py:545: UserWarning: Glyph 120023 (\\N{MATHEMATICAL BOLD SCRIPT CAPITAL H}) missing from current font.\n",
      "  bbox = text_obj.get_window_extent(renderer)\n",
      "/Users/jorgegarciaponce/Research/Yelin/PerceptronLossLandscapes/.venv/lib/python3.11/site-packages/IPython/core/pylabtools.py:152: UserWarning: Glyph 120023 (\\N{MATHEMATICAL BOLD SCRIPT CAPITAL H}) missing from current font.\n",
      "  fig.canvas.print_figure(bytes_io, **kw)\n"
     ]
    },
    {
     "data": {
      "image/png": "[encoded data removed]",
      "text/plain": [
       "<Figure size 1300x500 with 1 Axes>"
      ]
     },
     "metadata": {},
     "output_type": "display_data"
    }
   ],
   "source": [
    "drawer = qml.draw(circuit)\n",
    "\n",
    "fig, ax = qml.draw_mpl(circuit)(params)\n",
    "plt.show()"
   ]
  },
  {
   "cell_type": "code",
   "execution_count": 7,
   "metadata": {},
   "outputs": [],
   "source": [
    "natural_gradient = qml.metric_tensor(circuit, approx='block-diag')(params)"
   ]
  },
  {
   "cell_type": "code",
   "execution_count": 8,
   "metadata": {},
   "outputs": [
    {
     "name": "stdout",
     "output_type": "stream",
     "text": [
      "[[0.02986 0.      0.      ... 0.      0.      0.     ]\n",
      " [0.      0.05696 0.      ... 0.      0.      0.     ]\n",
      " [0.      0.      0.05614 ... 0.      0.      0.     ]\n",
      " ...\n",
      " [0.      0.      0.      ... 0.19314 0.      0.     ]\n",
      " [0.      0.      0.      ... 0.      0.13782 0.     ]\n",
      " [0.      0.      0.      ... 0.      0.      0.18265]]\n"
     ]
    }
   ],
   "source": [
    "np.set_printoptions(suppress=True, precision=5, linewidth=170)\n",
    "print(natural_gradient)"
   ]
  },
  {
   "cell_type": "code",
   "execution_count": 3,
   "metadata": {},
   "outputs": [
    {
     "name": "stdout",
     "output_type": "stream",
     "text": [
      "Ising Model Hamiltonian:\n",
      "H =   (0.1) [X0]\n",
      "+ (0.1) [X1]\n",
      "+ (0.1) [X2]\n",
      "+ (0.1) [X3]\n",
      "+ (1.0) [Z0 Z1]\n",
      "+ (1.0) [Z1 Z2]\n",
      "+ (1.0) [Z2 Z3]\n",
      "Exact ground state energy: -3.015111523799075\n"
     ]
    }
   ],
   "source": [
    "# setting up the problem\n",
    "perceptron_qubits = 4\n",
    "pulse_basis = 5\n",
    "ts = jnp.array([0.0, 1.0])\n",
    "\n",
    "perceptron = NativePerceptron(perceptron_qubits, pulse_basis, basis='gaussian', pulse_width=0.5e-2)\n",
    "\n",
    "H =  perceptron.H\n",
    "\n",
    "H_obj, H_obj_spectrum = perceptron.get_1d_ising_hamiltonian(0.1)\n",
    "\n",
    "e_ground_state_exact = H_obj_spectrum[0]\n",
    "\n",
    "print(f'Ising Model Hamiltonian:\\nH = {H_obj}')\n",
    "print(f'Exact ground state energy: {e_ground_state_exact}')\n"
   ]
  },
  {
   "cell_type": "code",
   "execution_count": 5,
   "metadata": {},
   "outputs": [],
   "source": [
    "param_vector = perceptron.get_random_parameter_vector(0)\n",
    "param_list = perceptron.vector_to_hamiltonian_parameters(param_vector)\n"
   ]
  },
  {
   "cell_type": "code",
   "execution_count": 12,
   "metadata": {},
   "outputs": [
    {
     "data": {
      "text/plain": [
       "(1*((PauliZ(wires=[0]) @ PauliZ(wires=[3])) + (PauliZ(wires=[1]) @ PauliZ(wires=[3])) + (PauliZ(wires=[2]) @ PauliZ(wires=[3])))) + ((((((((9.661408780874357e-241*(PauliX(wires=[0]))) + (9.776290482596198e-241*(PauliX(wires=[1])))) + (2.7817914021033507e-240*(PauliX(wires=[2])))) + (5.956959470702659e-241*(PauliX(wires=[3])))) + (2.4369594052545405e-240*(PauliY(wires=[0])))) + (1.8285720411527272e-240*(PauliY(wires=[1])))) + (3.142882720682321e-240*(PauliY(wires=[2])))) + (9.492594947682825e-241*(PauliY(wires=[3]))))"
      ]
     },
     "execution_count": 12,
     "metadata": {},
     "output_type": "execute_result"
    }
   ],
   "source": [
    "H_t = H(param_list, 1)\n",
    "H_t"
   ]
  },
  {
   "cell_type": "code",
   "execution_count": 15,
   "metadata": {},
   "outputs": [
    {
     "data": {
      "text/plain": [
       "1*((PauliZ(wires=[0]) @ PauliZ(wires=[3])) + (PauliZ(wires=[1]) @ PauliZ(wires=[3])) + (PauliZ(wires=[2]) @ PauliZ(wires=[3])))"
      ]
     },
     "execution_count": 15,
     "metadata": {},
     "output_type": "execute_result"
    }
   ],
   "source": [
    "H.H_fixed()"
   ]
  },
  {
   "cell_type": "code",
   "execution_count": 14,
   "metadata": {},
   "outputs": [
    {
     "name": "stdout",
     "output_type": "stream",
     "text": [
      "Type of H_t: <class 'pennylane.pulse.parametrized_hamiltonian.ParametrizedHamiltonian'>\n",
      "H_t is not an instance of qml.Hamiltonian\n"
     ]
    }
   ],
   "source": [
    "\n",
    "# Check the type of H_t\n",
    "print(\"Type of H_t:\", type(H))\n",
    "\n",
    "# Check if H_t is an instance of qml.Hamiltonian\n",
    "if isinstance(H_t, qml.Hamiltonian):\n",
    "    print(\"H_t is an instance of qml.Hamiltonian\")\n",
    "else:\n",
    "    print(\"H_t is not an instance of qml.Hamiltonian\")"
   ]
  },
  {
   "cell_type": "code",
   "execution_count": 17,
   "metadata": {},
   "outputs": [
    {
     "ename": "ValueError",
     "evalue": "hamiltonian must be of type pennylane.Hamiltonian, got SProd",
     "output_type": "error",
     "traceback": [
      "\u001b[0;31m---------------------------------------------------------------------------\u001b[0m",
      "\u001b[0;31mValueError\u001b[0m                                Traceback (most recent call last)",
      "Cell \u001b[0;32mIn[17], line 1\u001b[0m\n\u001b[0;32m----> 1\u001b[0m \u001b[43mqml\u001b[49m\u001b[38;5;241;43m.\u001b[39;49m\u001b[43mApproxTimeEvolution\u001b[49m\u001b[43m(\u001b[49m\u001b[43mH\u001b[49m\u001b[38;5;241;43m.\u001b[39;49m\u001b[43mH_fixed\u001b[49m\u001b[43m(\u001b[49m\u001b[43m)\u001b[49m\u001b[43m \u001b[49m\u001b[43m,\u001b[49m\u001b[43m \u001b[49m\u001b[38;5;241;43m0.1\u001b[39;49m\u001b[43m,\u001b[49m\u001b[43m \u001b[49m\u001b[38;5;241;43m1\u001b[39;49m\u001b[43m)\u001b[49m\n",
      "File \u001b[0;32m~/Research/Yelin/PerceptronLossLandscapes/.venv/lib/python3.11/site-packages/pennylane/templates/subroutines/approx_time_evolution.py:115\u001b[0m, in \u001b[0;36mApproxTimeEvolution.__init__\u001b[0;34m(self, hamiltonian, time, n, id)\u001b[0m\n\u001b[1;32m    113\u001b[0m \u001b[38;5;28;01mdef\u001b[39;00m \u001b[38;5;21m__init__\u001b[39m(\u001b[38;5;28mself\u001b[39m, hamiltonian, time, n, \u001b[38;5;28mid\u001b[39m\u001b[38;5;241m=\u001b[39m\u001b[38;5;28;01mNone\u001b[39;00m):\n\u001b[1;32m    114\u001b[0m     \u001b[38;5;28;01mif\u001b[39;00m \u001b[38;5;129;01mnot\u001b[39;00m \u001b[38;5;28misinstance\u001b[39m(hamiltonian, qml\u001b[38;5;241m.\u001b[39mHamiltonian):\n\u001b[0;32m--> 115\u001b[0m         \u001b[38;5;28;01mraise\u001b[39;00m \u001b[38;5;167;01mValueError\u001b[39;00m(\n\u001b[1;32m    116\u001b[0m             \u001b[38;5;124mf\u001b[39m\u001b[38;5;124m\"\u001b[39m\u001b[38;5;124mhamiltonian must be of type pennylane.Hamiltonian, got \u001b[39m\u001b[38;5;132;01m{\u001b[39;00m\u001b[38;5;28mtype\u001b[39m(hamiltonian)\u001b[38;5;241m.\u001b[39m\u001b[38;5;18m__name__\u001b[39m\u001b[38;5;132;01m}\u001b[39;00m\u001b[38;5;124m\"\u001b[39m\n\u001b[1;32m    117\u001b[0m         )\n\u001b[1;32m    119\u001b[0m     \u001b[38;5;66;03m# extract the wires that the op acts on\u001b[39;00m\n\u001b[1;32m    120\u001b[0m     wire_list \u001b[38;5;241m=\u001b[39m [term\u001b[38;5;241m.\u001b[39mwires \u001b[38;5;28;01mfor\u001b[39;00m term \u001b[38;5;129;01min\u001b[39;00m hamiltonian\u001b[38;5;241m.\u001b[39mops]\n",
      "\u001b[0;31mValueError\u001b[0m: hamiltonian must be of type pennylane.Hamiltonian, got SProd"
     ]
    }
   ],
   "source": [
    "qml.ApproxTimeEvolution(H.H_fixed() , 0.1, 1)"
   ]
  },
  {
   "cell_type": "code",
   "execution_count": null,
   "metadata": {},
   "outputs": [],
   "source": [
    "\n",
    "    times = np.arange(0, t, dt)\n",
    "\n",
    "    for time in times:\n",
    "\n",
    "        qml.ApproxTimeEvolution(self.perceptron_hamiltonian(time) , dt, trotter_number)\n",
    "    \n"
   ]
  },
  {
   "cell_type": "code",
   "execution_count": 3,
   "metadata": {},
   "outputs": [
    {
     "data": {
      "text/plain": [
       "Array(0.57475118, dtype=float64)"
      ]
     },
     "execution_count": 3,
     "metadata": {},
     "output_type": "execute_result"
    }
   ],
   "source": [
    "dev = qml.device(\"default.qubit.jax\", wires = perceptron_qubits)\n",
    "\n",
    "\n",
    "@qml.qnode(dev, interface=\"jax\")\n",
    "def loss(param_vector):\n",
    "\n",
    "    # hamitlonian_params = dictionary_to_hamiltonian_parameters(params_dict)\n",
    "\n",
    "    param_list = perceptron.vector_to_hamiltonian_parameters(param_vector)\n",
    "\n",
    "    qml.evolve(perceptron.H)(param_list, ts)\n",
    "\n",
    "    return qml.expval(H_obj)\n",
    "\n",
    "    \n",
    "param_vector = perceptron.get_random_parameter_vector(0)\n",
    "param_list = perceptron.vector_to_hamiltonian_parameters(param_vector)\n",
    "\n",
    "loss(param_vector)"
   ]
  },
  {
   "cell_type": "code",
   "execution_count": 10,
   "metadata": {},
   "outputs": [],
   "source": [
    "\n",
    "param_list = perceptron.vector_to_hamiltonian_parameters(param_vector)\n",
    "ops = [qml.evolve(perceptron.H)(param_list, ts)]\n",
    "measurements = [qml.state()]\n",
    "tape = qml.tape.QuantumTape(ops, measurements)"
   ]
  },
  {
   "cell_type": "code",
   "execution_count": 12,
   "metadata": {},
   "outputs": [
    {
     "data": {
      "text/plain": [
       "([],\n",
       " <function pennylane.transforms.metric_tensor.metric_tensor.<locals>.<lambda>(_)>)"
      ]
     },
     "execution_count": 12,
     "metadata": {},
     "output_type": "execute_result"
    }
   ],
   "source": [
    "qml.metric_tensor(tape)"
   ]
  },
  {
   "cell_type": "code",
   "execution_count": 5,
   "metadata": {},
   "outputs": [
    {
     "data": {
      "text/plain": [
       "<QNode: wires=4, device='default.qubit.jax', interface='jax', diff_method='best'>"
      ]
     },
     "execution_count": 5,
     "metadata": {},
     "output_type": "execute_result"
    }
   ],
   "source": [
    "loss"
   ]
  },
  {
   "cell_type": "code",
   "execution_count": 13,
   "metadata": {},
   "outputs": [
    {
     "ename": "ValueError",
     "evalue": "Operation ParametrizedEvolution is not written in terms of a single parameter",
     "output_type": "error",
     "traceback": [
      "\u001b[0;31m---------------------------------------------------------------------------\u001b[0m",
      "\u001b[0;31mDecompositionUndefinedError\u001b[0m               Traceback (most recent call last)",
      "File \u001b[0;32m~/Research/Yelin/PerceptronLossLandscapes/.venv/lib/python3.11/site-packages/pennylane/transforms/op_transforms.py:264\u001b[0m, in \u001b[0;36mop_transform.fn\u001b[0;34m(self, obj, *args, **kwargs)\u001b[0m\n\u001b[1;32m    261\u001b[0m \u001b[38;5;28;01mtry\u001b[39;00m:\n\u001b[1;32m    262\u001b[0m     \u001b[38;5;66;03m# attempt to decompose the operation and call\u001b[39;00m\n\u001b[1;32m    263\u001b[0m     \u001b[38;5;66;03m# the tape transform function if defined\u001b[39;00m\n\u001b[0;32m--> 264\u001b[0m     \u001b[38;5;28;01mreturn\u001b[39;00m \u001b[38;5;28mself\u001b[39m\u001b[38;5;241m.\u001b[39mtape_fn(\u001b[43mobj\u001b[49m\u001b[38;5;241;43m.\u001b[39;49m\u001b[43mexpand\u001b[49m\u001b[43m(\u001b[49m\u001b[43m)\u001b[49m, \u001b[38;5;241m*\u001b[39margs, \u001b[38;5;241m*\u001b[39m\u001b[38;5;241m*\u001b[39mkwargs)\n\u001b[1;32m    266\u001b[0m \u001b[38;5;28;01mexcept\u001b[39;00m (\n\u001b[1;32m    267\u001b[0m     \u001b[38;5;167;01mAttributeError\u001b[39;00m,\n\u001b[1;32m    268\u001b[0m     qml\u001b[38;5;241m.\u001b[39moperation\u001b[38;5;241m.\u001b[39mOperatorPropertyUndefined,\n\u001b[0;32m   (...)\u001b[0m\n\u001b[1;32m    271\u001b[0m     \u001b[38;5;66;03m# if obj.expand() does not exist, a required operation property was not found,\u001b[39;00m\n\u001b[1;32m    272\u001b[0m     \u001b[38;5;66;03m# or the tape transform function does not exist, simply raise the original exception\u001b[39;00m\n",
      "File \u001b[0;32m~/Research/Yelin/PerceptronLossLandscapes/.venv/lib/python3.11/site-packages/pennylane/operation.py:1444\u001b[0m, in \u001b[0;36mOperator.expand\u001b[0;34m(self)\u001b[0m\n\u001b[1;32m   1443\u001b[0m \u001b[38;5;28;01mif\u001b[39;00m \u001b[38;5;129;01mnot\u001b[39;00m \u001b[38;5;28mself\u001b[39m\u001b[38;5;241m.\u001b[39mhas_decomposition:\n\u001b[0;32m-> 1444\u001b[0m     \u001b[38;5;28;01mraise\u001b[39;00m DecompositionUndefinedError\n\u001b[1;32m   1446\u001b[0m qscript \u001b[38;5;241m=\u001b[39m qml\u001b[38;5;241m.\u001b[39mtape\u001b[38;5;241m.\u001b[39mQuantumScript(\u001b[38;5;28mself\u001b[39m\u001b[38;5;241m.\u001b[39mdecomposition())\n",
      "\u001b[0;31mDecompositionUndefinedError\u001b[0m: ",
      "\nThe above exception was the direct cause of the following exception:\n",
      "\u001b[0;31mValueError\u001b[0m                                Traceback (most recent call last)",
      "Cell \u001b[0;32mIn[13], line 4\u001b[0m\n\u001b[1;32m      1\u001b[0m param_vector \u001b[38;5;241m=\u001b[39m perceptron\u001b[38;5;241m.\u001b[39mget_random_parameter_vector(\u001b[38;5;241m0\u001b[39m)\n\u001b[0;32m----> 4\u001b[0m \u001b[43mqml\u001b[49m\u001b[38;5;241;43m.\u001b[39;49m\u001b[43mmetric_tensor\u001b[49m\u001b[43m(\u001b[49m\u001b[43mloss\u001b[49m\u001b[43m)\u001b[49m\u001b[43m(\u001b[49m\u001b[43mparam_vector\u001b[49m\u001b[43m)\u001b[49m\n",
      "File \u001b[0;32m~/Research/Yelin/PerceptronLossLandscapes/.venv/lib/python3.11/site-packages/pennylane/transforms/metric_tensor.py:427\u001b[0m, in \u001b[0;36mqnode_execution_wrapper.<locals>.wrapper\u001b[0;34m(*args, **kwargs)\u001b[0m\n\u001b[1;32m    424\u001b[0m     \u001b[38;5;28;01mreturn\u001b[39;00m ()\n\u001b[1;32m    426\u001b[0m \u001b[38;5;28;01mtry\u001b[39;00m:\n\u001b[0;32m--> 427\u001b[0m     mt \u001b[38;5;241m=\u001b[39m \u001b[43mmt_fn\u001b[49m\u001b[43m(\u001b[49m\u001b[38;5;241;43m*\u001b[39;49m\u001b[43margs\u001b[49m\u001b[43m,\u001b[49m\u001b[43m \u001b[49m\u001b[38;5;241;43m*\u001b[39;49m\u001b[38;5;241;43m*\u001b[39;49m\u001b[43mkwargs\u001b[49m\u001b[43m)\u001b[49m\n\u001b[1;32m    428\u001b[0m \u001b[38;5;28;01mexcept\u001b[39;00m qml\u001b[38;5;241m.\u001b[39mwires\u001b[38;5;241m.\u001b[39mWireError \u001b[38;5;28;01mas\u001b[39;00m e:\n\u001b[1;32m    429\u001b[0m     revert_text \u001b[38;5;241m=\u001b[39m (\n\u001b[1;32m    430\u001b[0m         \u001b[38;5;124m\"\u001b[39m\u001b[38;5;130;01m\\n\u001b[39;00m\u001b[38;5;130;01m\\n\u001b[39;00m\u001b[38;5;124mReverting to the block-diagonal approximation. It will often be \u001b[39m\u001b[38;5;124m\"\u001b[39m\n\u001b[1;32m    431\u001b[0m         \u001b[38;5;124m\"\u001b[39m\u001b[38;5;124mmuch more efficient to request the block-diagonal approximation directly!\u001b[39m\u001b[38;5;124m\"\u001b[39m\n\u001b[1;32m    432\u001b[0m     )\n",
      "File \u001b[0;32m~/Research/Yelin/PerceptronLossLandscapes/.venv/lib/python3.11/site-packages/pennylane/transforms/batch_transform.py:303\u001b[0m, in \u001b[0;36mbatch_transform.default_qnode_wrapper.<locals>._wrapper\u001b[0;34m(*args, **kwargs)\u001b[0m\n\u001b[1;32m    300\u001b[0m     qnode\u001b[38;5;241m.\u001b[39minterface \u001b[38;5;241m=\u001b[39m qml\u001b[38;5;241m.\u001b[39mmath\u001b[38;5;241m.\u001b[39mget_interface(\u001b[38;5;241m*\u001b[39margs, \u001b[38;5;241m*\u001b[39m\u001b[38;5;28mlist\u001b[39m(kwargs\u001b[38;5;241m.\u001b[39mvalues()))\n\u001b[1;32m    302\u001b[0m qnode\u001b[38;5;241m.\u001b[39mconstruct(args, kwargs)\n\u001b[0;32m--> 303\u001b[0m tapes, processing_fn \u001b[38;5;241m=\u001b[39m \u001b[38;5;28;43mself\u001b[39;49m\u001b[38;5;241;43m.\u001b[39;49m\u001b[43mconstruct\u001b[49m\u001b[43m(\u001b[49m\u001b[43mqnode\u001b[49m\u001b[38;5;241;43m.\u001b[39;49m\u001b[43mqtape\u001b[49m\u001b[43m,\u001b[49m\u001b[43m \u001b[49m\u001b[38;5;241;43m*\u001b[39;49m\u001b[43mtargs\u001b[49m\u001b[43m,\u001b[49m\u001b[43m \u001b[49m\u001b[38;5;241;43m*\u001b[39;49m\u001b[38;5;241;43m*\u001b[39;49m\u001b[43mtkwargs\u001b[49m\u001b[43m)\u001b[49m\n\u001b[1;32m    305\u001b[0m interface \u001b[38;5;241m=\u001b[39m qnode\u001b[38;5;241m.\u001b[39minterface\n\u001b[1;32m    306\u001b[0m execute_kwargs \u001b[38;5;241m=\u001b[39m \u001b[38;5;28mgetattr\u001b[39m(qnode, \u001b[38;5;124m\"\u001b[39m\u001b[38;5;124mexecute_kwargs\u001b[39m\u001b[38;5;124m\"\u001b[39m, {})\u001b[38;5;241m.\u001b[39mcopy()\n",
      "File \u001b[0;32m~/Research/Yelin/PerceptronLossLandscapes/.venv/lib/python3.11/site-packages/pennylane/transforms/batch_transform.py:434\u001b[0m, in \u001b[0;36mbatch_transform.construct\u001b[0;34m(self, tape, *targs, **tkwargs)\u001b[0m\n\u001b[1;32m    432\u001b[0m \u001b[38;5;28;01mif\u001b[39;00m argnums \u001b[38;5;129;01mis\u001b[39;00m \u001b[38;5;129;01mnot\u001b[39;00m \u001b[38;5;28;01mNone\u001b[39;00m:\n\u001b[1;32m    433\u001b[0m     tape\u001b[38;5;241m.\u001b[39mtrainable_params \u001b[38;5;241m=\u001b[39m argnums\n\u001b[0;32m--> 434\u001b[0m tapes, processing_fn \u001b[38;5;241m=\u001b[39m \u001b[38;5;28;43mself\u001b[39;49m\u001b[38;5;241;43m.\u001b[39;49m\u001b[43mtransform_fn\u001b[49m\u001b[43m(\u001b[49m\u001b[43mtape\u001b[49m\u001b[43m,\u001b[49m\u001b[43m \u001b[49m\u001b[38;5;241;43m*\u001b[39;49m\u001b[43mtargs\u001b[49m\u001b[43m,\u001b[49m\u001b[43m \u001b[49m\u001b[38;5;241;43m*\u001b[39;49m\u001b[38;5;241;43m*\u001b[39;49m\u001b[43mtkwargs\u001b[49m\u001b[43m)\u001b[49m\n\u001b[1;32m    436\u001b[0m \u001b[38;5;28;01mif\u001b[39;00m processing_fn \u001b[38;5;129;01mis\u001b[39;00m \u001b[38;5;28;01mNone\u001b[39;00m:\n\u001b[1;32m    438\u001b[0m     \u001b[38;5;28;01mdef\u001b[39;00m \u001b[38;5;21mprocessing_fn\u001b[39m(x):\n",
      "File \u001b[0;32m~/Research/Yelin/PerceptronLossLandscapes/.venv/lib/python3.11/site-packages/pennylane/transforms/metric_tensor.py:329\u001b[0m, in \u001b[0;36mmetric_tensor\u001b[0;34m(tape, argnum, approx, allow_nonunitary, aux_wire, device_wires)\u001b[0m\n\u001b[1;32m    326\u001b[0m     \u001b[38;5;28;01mreturn\u001b[39;00m _metric_tensor_cov_matrix(tape, argnum, diag_approx)[:\u001b[38;5;241m2\u001b[39m]\n\u001b[1;32m    328\u001b[0m \u001b[38;5;28;01mif\u001b[39;00m approx \u001b[38;5;129;01mis\u001b[39;00m \u001b[38;5;28;01mNone\u001b[39;00m:\n\u001b[0;32m--> 329\u001b[0m     \u001b[38;5;28;01mreturn\u001b[39;00m \u001b[43m_metric_tensor_hadamard\u001b[49m\u001b[43m(\u001b[49m\u001b[43mtape\u001b[49m\u001b[43m,\u001b[49m\u001b[43m \u001b[49m\u001b[43margnum\u001b[49m\u001b[43m,\u001b[49m\u001b[43m \u001b[49m\u001b[43mallow_nonunitary\u001b[49m\u001b[43m,\u001b[49m\u001b[43m \u001b[49m\u001b[43maux_wire\u001b[49m\u001b[43m,\u001b[49m\u001b[43m \u001b[49m\u001b[43mdevice_wires\u001b[49m\u001b[43m)\u001b[49m\n\u001b[1;32m    331\u001b[0m \u001b[38;5;28;01mraise\u001b[39;00m \u001b[38;5;167;01mValueError\u001b[39;00m(\n\u001b[1;32m    332\u001b[0m     \u001b[38;5;124mf\u001b[39m\u001b[38;5;124m\"\u001b[39m\u001b[38;5;124mUnknown value \u001b[39m\u001b[38;5;132;01m{\u001b[39;00mapprox\u001b[38;5;132;01m}\u001b[39;00m\u001b[38;5;124m for keyword argument approx. \u001b[39m\u001b[38;5;124m\"\u001b[39m\n\u001b[1;32m    333\u001b[0m     \u001b[38;5;124m\"\u001b[39m\u001b[38;5;124mValid values are \u001b[39m\u001b[38;5;124m'\u001b[39m\u001b[38;5;124mdiag\u001b[39m\u001b[38;5;124m'\u001b[39m\u001b[38;5;124m, \u001b[39m\u001b[38;5;124m'\u001b[39m\u001b[38;5;124mblock-diag\u001b[39m\u001b[38;5;124m'\u001b[39m\u001b[38;5;124m and None.\u001b[39m\u001b[38;5;124m\"\u001b[39m\n\u001b[1;32m    334\u001b[0m )\n",
      "File \u001b[0;32m~/Research/Yelin/PerceptronLossLandscapes/.venv/lib/python3.11/site-packages/pennylane/transforms/metric_tensor.py:748\u001b[0m, in \u001b[0;36m_metric_tensor_hadamard\u001b[0;34m(tape, argnum, allow_nonunitary, aux_wire, device_wires)\u001b[0m\n\u001b[1;32m    716\u001b[0m \u001b[38;5;250m\u001b[39m\u001b[38;5;124mr\u001b[39m\u001b[38;5;124;03m\"\"\"Generate the quantum tapes that execute the Hadamard tests\u001b[39;00m\n\u001b[1;32m    717\u001b[0m \u001b[38;5;124;03mto compute the first term of off block-diagonal metric entries\u001b[39;00m\n\u001b[1;32m    718\u001b[0m \u001b[38;5;124;03mand combine them with the covariance matrix-based block-diagonal tapes.\u001b[39;00m\n\u001b[0;32m   (...)\u001b[0m\n\u001b[1;32m    736\u001b[0m \u001b[38;5;124;03m    callable: processing function to obtain the metric tensor from the tape results\u001b[39;00m\n\u001b[1;32m    737\u001b[0m \u001b[38;5;124;03m\"\"\"\u001b[39;00m\n\u001b[1;32m    738\u001b[0m \u001b[38;5;66;03m# Get tapes and processing function for the block-diagonal metric tensor,\u001b[39;00m\n\u001b[1;32m    739\u001b[0m \u001b[38;5;66;03m# as well as the generator observables and generator coefficients for each diff'ed operation\u001b[39;00m\n\u001b[1;32m    740\u001b[0m (\n\u001b[1;32m    741\u001b[0m     diag_tapes,\n\u001b[1;32m    742\u001b[0m     diag_proc_fn,\n\u001b[1;32m    743\u001b[0m     obs_list,\n\u001b[1;32m    744\u001b[0m     coeffs_list,\n\u001b[1;32m    745\u001b[0m     in_argnum_list,\n\u001b[1;32m    746\u001b[0m     layer_ids,\n\u001b[1;32m    747\u001b[0m     obs_ids,\n\u001b[0;32m--> 748\u001b[0m ) \u001b[38;5;241m=\u001b[39m \u001b[43m_metric_tensor_cov_matrix\u001b[49m\u001b[43m(\u001b[49m\u001b[43mtape\u001b[49m\u001b[43m,\u001b[49m\u001b[43m \u001b[49m\u001b[43margnum\u001b[49m\u001b[43m,\u001b[49m\u001b[43m \u001b[49m\u001b[43mdiag_approx\u001b[49m\u001b[38;5;241;43m=\u001b[39;49m\u001b[38;5;28;43;01mFalse\u001b[39;49;00m\u001b[43m)\u001b[49m\n\u001b[1;32m    750\u001b[0m \u001b[38;5;66;03m# Obtain layers of parametrized operations and account for the discrepancy between trainable\u001b[39;00m\n\u001b[1;32m    751\u001b[0m \u001b[38;5;66;03m# and non-trainable parameter indices\u001b[39;00m\n\u001b[1;32m    752\u001b[0m graph \u001b[38;5;241m=\u001b[39m tape\u001b[38;5;241m.\u001b[39mgraph\n",
      "File \u001b[0;32m~/Research/Yelin/PerceptronLossLandscapes/.venv/lib/python3.11/site-packages/pennylane/transforms/metric_tensor.py:534\u001b[0m, in \u001b[0;36m_metric_tensor_cov_matrix\u001b[0;34m(tape, argnum, diag_approx)\u001b[0m\n\u001b[1;32m    532\u001b[0m layers_ids\u001b[38;5;241m.\u001b[39mappend(i)\n\u001b[1;32m    533\u001b[0m \u001b[38;5;28;01mif\u001b[39;00m p \u001b[38;5;129;01min\u001b[39;00m argnum:\n\u001b[0;32m--> 534\u001b[0m     obs, s \u001b[38;5;241m=\u001b[39m \u001b[43mqml\u001b[49m\u001b[38;5;241;43m.\u001b[39;49m\u001b[43mgenerator\u001b[49m\u001b[43m(\u001b[49m\u001b[43mop\u001b[49m\u001b[43m)\u001b[49m\n\u001b[1;32m    535\u001b[0m     layer_obs\u001b[38;5;241m.\u001b[39mappend(obs)\n\u001b[1;32m    536\u001b[0m     layer_coeffs\u001b[38;5;241m.\u001b[39mappend(s)\n",
      "File \u001b[0;32m~/Research/Yelin/PerceptronLossLandscapes/.venv/lib/python3.11/site-packages/pennylane/transforms/op_transforms.py:213\u001b[0m, in \u001b[0;36mop_transform.__call__\u001b[0;34m(self, *targs, **tkwargs)\u001b[0m\n\u001b[1;32m    210\u001b[0m     obj, \u001b[38;5;241m*\u001b[39mtargs \u001b[38;5;241m=\u001b[39m targs\n\u001b[1;32m    212\u001b[0m \u001b[38;5;28;01mif\u001b[39;00m \u001b[38;5;28misinstance\u001b[39m(obj, (qml\u001b[38;5;241m.\u001b[39moperation\u001b[38;5;241m.\u001b[39mOperator, qml\u001b[38;5;241m.\u001b[39mtape\u001b[38;5;241m.\u001b[39mQuantumScript)) \u001b[38;5;129;01mor\u001b[39;00m \u001b[38;5;28mcallable\u001b[39m(obj):\n\u001b[0;32m--> 213\u001b[0m     \u001b[38;5;28;01mreturn\u001b[39;00m \u001b[38;5;28;43mself\u001b[39;49m\u001b[38;5;241;43m.\u001b[39;49m\u001b[43m_create_wrapper\u001b[49m\u001b[43m(\u001b[49m\u001b[43mobj\u001b[49m\u001b[43m,\u001b[49m\u001b[43m \u001b[49m\u001b[38;5;241;43m*\u001b[39;49m\u001b[43mtargs\u001b[49m\u001b[43m,\u001b[49m\u001b[43m \u001b[49m\u001b[38;5;241;43m*\u001b[39;49m\u001b[38;5;241;43m*\u001b[39;49m\u001b[43mtkwargs\u001b[49m\u001b[43m)\u001b[49m\n\u001b[1;32m    215\u001b[0m \u001b[38;5;66;03m# Input is not an operator nor a QNode nor a quantum tape nor a qfunc.\u001b[39;00m\n\u001b[1;32m    216\u001b[0m \u001b[38;5;66;03m# Assume Python decorator syntax:\u001b[39;00m\n\u001b[1;32m    217\u001b[0m \u001b[38;5;66;03m#\u001b[39;00m\n\u001b[0;32m   (...)\u001b[0m\n\u001b[1;32m    229\u001b[0m \u001b[38;5;66;03m# Prepend the input to the transform args,\u001b[39;00m\n\u001b[1;32m    230\u001b[0m \u001b[38;5;66;03m# and create a wrapper function.\u001b[39;00m\n\u001b[1;32m    231\u001b[0m \u001b[38;5;28;01mif\u001b[39;00m obj \u001b[38;5;129;01mis\u001b[39;00m \u001b[38;5;129;01mnot\u001b[39;00m \u001b[38;5;28;01mNone\u001b[39;00m:\n",
      "File \u001b[0;32m~/Research/Yelin/PerceptronLossLandscapes/.venv/lib/python3.11/site-packages/pennylane/transforms/op_transforms.py:410\u001b[0m, in \u001b[0;36mop_transform._create_wrapper\u001b[0;34m(self, obj, wire_order, *targs, **tkwargs)\u001b[0m\n\u001b[1;32m    407\u001b[0m     \u001b[38;5;28;01mif\u001b[39;00m wire_order \u001b[38;5;129;01mis\u001b[39;00m \u001b[38;5;129;01mnot\u001b[39;00m \u001b[38;5;28;01mNone\u001b[39;00m:\n\u001b[1;32m    408\u001b[0m         tkwargs[\u001b[38;5;124m\"\u001b[39m\u001b[38;5;124mwire_order\u001b[39m\u001b[38;5;124m\"\u001b[39m] \u001b[38;5;241m=\u001b[39m wire_order\n\u001b[0;32m--> 410\u001b[0m     wrapper \u001b[38;5;241m=\u001b[39m \u001b[38;5;28;43mself\u001b[39;49m\u001b[38;5;241;43m.\u001b[39;49m\u001b[43mfn\u001b[49m\u001b[43m(\u001b[49m\u001b[43mobj\u001b[49m\u001b[43m,\u001b[49m\u001b[43m \u001b[49m\u001b[38;5;241;43m*\u001b[39;49m\u001b[43mtargs\u001b[49m\u001b[43m,\u001b[49m\u001b[43m \u001b[49m\u001b[38;5;241;43m*\u001b[39;49m\u001b[38;5;241;43m*\u001b[39;49m\u001b[43mtkwargs\u001b[49m\u001b[43m)\u001b[49m\n\u001b[1;32m    412\u001b[0m \u001b[38;5;28;01melif\u001b[39;00m \u001b[38;5;28misinstance\u001b[39m(obj, qml\u001b[38;5;241m.\u001b[39mtape\u001b[38;5;241m.\u001b[39mQuantumScript):\n\u001b[1;32m    413\u001b[0m     \u001b[38;5;66;03m# Input is a quantum tape. Get the quantum tape.\u001b[39;00m\n\u001b[1;32m    414\u001b[0m     tape, verified_wire_order \u001b[38;5;241m=\u001b[39m \u001b[38;5;28mself\u001b[39m\u001b[38;5;241m.\u001b[39m_make_tape(obj, wire_order)\n",
      "File \u001b[0;32m~/Research/Yelin/PerceptronLossLandscapes/.venv/lib/python3.11/site-packages/pennylane/transforms/op_transforms.py:273\u001b[0m, in \u001b[0;36mop_transform.fn\u001b[0;34m(self, obj, *args, **kwargs)\u001b[0m\n\u001b[1;32m    264\u001b[0m     \u001b[38;5;28;01mreturn\u001b[39;00m \u001b[38;5;28mself\u001b[39m\u001b[38;5;241m.\u001b[39mtape_fn(obj\u001b[38;5;241m.\u001b[39mexpand(), \u001b[38;5;241m*\u001b[39margs, \u001b[38;5;241m*\u001b[39m\u001b[38;5;241m*\u001b[39mkwargs)\n\u001b[1;32m    266\u001b[0m \u001b[38;5;28;01mexcept\u001b[39;00m (\n\u001b[1;32m    267\u001b[0m     \u001b[38;5;167;01mAttributeError\u001b[39;00m,\n\u001b[1;32m    268\u001b[0m     qml\u001b[38;5;241m.\u001b[39moperation\u001b[38;5;241m.\u001b[39mOperatorPropertyUndefined,\n\u001b[0;32m   (...)\u001b[0m\n\u001b[1;32m    271\u001b[0m     \u001b[38;5;66;03m# if obj.expand() does not exist, a required operation property was not found,\u001b[39;00m\n\u001b[1;32m    272\u001b[0m     \u001b[38;5;66;03m# or the tape transform function does not exist, simply raise the original exception\u001b[39;00m\n\u001b[0;32m--> 273\u001b[0m     \u001b[38;5;28;01mraise\u001b[39;00m e1 \u001b[38;5;28;01mfrom\u001b[39;00m \u001b[38;5;21;01me\u001b[39;00m\n",
      "File \u001b[0;32m~/Research/Yelin/PerceptronLossLandscapes/.venv/lib/python3.11/site-packages/pennylane/transforms/op_transforms.py:258\u001b[0m, in \u001b[0;36mop_transform.fn\u001b[0;34m(self, obj, *args, **kwargs)\u001b[0m\n\u001b[1;32m    240\u001b[0m \u001b[38;5;250m\u001b[39m\u001b[38;5;124;03m\"\"\"Evaluate the underlying operator transform function.\u001b[39;00m\n\u001b[1;32m    241\u001b[0m \n\u001b[1;32m    242\u001b[0m \u001b[38;5;124;03mIf a corresponding tape transform for the operator has been registered\u001b[39;00m\n\u001b[0;32m   (...)\u001b[0m\n\u001b[1;32m    255\u001b[0m \u001b[38;5;124;03m    any: the result of evaluating the transform\u001b[39;00m\n\u001b[1;32m    256\u001b[0m \u001b[38;5;124;03m\"\"\"\u001b[39;00m\n\u001b[1;32m    257\u001b[0m \u001b[38;5;28;01mtry\u001b[39;00m:\n\u001b[0;32m--> 258\u001b[0m     \u001b[38;5;28;01mreturn\u001b[39;00m \u001b[38;5;28;43mself\u001b[39;49m\u001b[38;5;241;43m.\u001b[39;49m\u001b[43m_fn\u001b[49m\u001b[43m(\u001b[49m\u001b[43mobj\u001b[49m\u001b[43m,\u001b[49m\u001b[43m \u001b[49m\u001b[38;5;241;43m*\u001b[39;49m\u001b[43margs\u001b[49m\u001b[43m,\u001b[49m\u001b[43m \u001b[49m\u001b[38;5;241;43m*\u001b[39;49m\u001b[38;5;241;43m*\u001b[39;49m\u001b[43mkwargs\u001b[49m\u001b[43m)\u001b[49m\n\u001b[1;32m    260\u001b[0m \u001b[38;5;28;01mexcept\u001b[39;00m \u001b[38;5;167;01mException\u001b[39;00m \u001b[38;5;28;01mas\u001b[39;00m e1:  \u001b[38;5;66;03m# pylint: disable=broad-except\u001b[39;00m\n\u001b[1;32m    261\u001b[0m     \u001b[38;5;28;01mtry\u001b[39;00m:\n\u001b[1;32m    262\u001b[0m         \u001b[38;5;66;03m# attempt to decompose the operation and call\u001b[39;00m\n\u001b[1;32m    263\u001b[0m         \u001b[38;5;66;03m# the tape transform function if defined\u001b[39;00m\n",
      "File \u001b[0;32m~/Research/Yelin/PerceptronLossLandscapes/.venv/lib/python3.11/site-packages/pennylane/ops/functions/generator.py:171\u001b[0m, in \u001b[0;36mgenerator\u001b[0;34m(op, format)\u001b[0m\n\u001b[1;32m    106\u001b[0m \u001b[38;5;250m\u001b[39m\u001b[38;5;124mr\u001b[39m\u001b[38;5;124;03m\"\"\"Returns the generator of an operation.\u001b[39;00m\n\u001b[1;32m    107\u001b[0m \n\u001b[1;32m    108\u001b[0m \u001b[38;5;124;03mArgs:\u001b[39;00m\n\u001b[0;32m   (...)\u001b[0m\n\u001b[1;32m    168\u001b[0m \u001b[38;5;124;03m-0.5*(PauliX(wires=[0]))\u001b[39;00m\n\u001b[1;32m    169\u001b[0m \u001b[38;5;124;03m\"\"\"\u001b[39;00m\n\u001b[1;32m    170\u001b[0m \u001b[38;5;28;01mif\u001b[39;00m op\u001b[38;5;241m.\u001b[39mnum_params \u001b[38;5;241m!=\u001b[39m \u001b[38;5;241m1\u001b[39m:\n\u001b[0;32m--> 171\u001b[0m     \u001b[38;5;28;01mraise\u001b[39;00m \u001b[38;5;167;01mValueError\u001b[39;00m(\u001b[38;5;124mf\u001b[39m\u001b[38;5;124m\"\u001b[39m\u001b[38;5;124mOperation \u001b[39m\u001b[38;5;132;01m{\u001b[39;00mop\u001b[38;5;241m.\u001b[39mname\u001b[38;5;132;01m}\u001b[39;00m\u001b[38;5;124m is not written in terms of a single parameter\u001b[39m\u001b[38;5;124m\"\u001b[39m)\n\u001b[1;32m    173\u001b[0m \u001b[38;5;28;01mtry\u001b[39;00m:\n\u001b[1;32m    174\u001b[0m     gen \u001b[38;5;241m=\u001b[39m op\u001b[38;5;241m.\u001b[39mgenerator()\n",
      "\u001b[0;31mValueError\u001b[0m: Operation ParametrizedEvolution is not written in terms of a single parameter"
     ]
    }
   ],
   "source": [
    "param_vector = perceptron.get_random_parameter_vector(0)\n",
    "\n",
    "\n",
    "qml.metric_tensor(loss)(param_vector)"
   ]
  }
 ],
 "metadata": {
  "kernelspec": {
   "display_name": ".venv",
   "language": "python",
   "name": "python3"
  },
  "language_info": {
   "codemirror_mode": {
    "name": "ipython",
    "version": 3
   },
   "file_extension": ".py",
   "mimetype": "text/x-python",
   "name": "python",
   "nbconvert_exporter": "python",
   "pygments_lexer": "ipython3",
   "version": "3.11.3"
  }
 },
 "nbformat": 4,
 "nbformat_minor": 2
}
