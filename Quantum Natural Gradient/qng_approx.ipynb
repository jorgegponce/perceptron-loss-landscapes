{
 "cells": [
  {
   "cell_type": "code",
   "execution_count": 1,
   "metadata": {},
   "outputs": [],
   "source": [
    "import pennylane as qml\n",
    "import pennylane.numpy as np\n",
    "import jax.numpy as jnp\n",
    "from scipy.special import legendre\n",
    "import jax\n",
    "import optax\n",
    "\n",
    "from time import time\n",
    "import pickle\n",
    "\n",
    "import matplotlib.pyplot as plt\n",
    "\n",
    "\n",
    "import os, sys, argparse\n",
    "\n",
    "parent = os.path.abspath('../src')\n",
    "sys.path.insert(1, parent)\n",
    "\n",
    "from perceptron import NativePerceptron\n",
    "\n",
    "\n",
    "\n",
    "# Set to float64 precision and remove jax CPU/GPU warning\n",
    "jax.config.update(\"jax_enable_x64\", True)\n",
    "jax.config.update(\"jax_platform_name\", \"cpu\")"
   ]
  },
  {
   "cell_type": "code",
   "execution_count": 2,
   "metadata": {},
   "outputs": [
    {
     "name": "stdout",
     "output_type": "stream",
     "text": [
      "Ising Model Hamiltonian:\n",
      "H =   (0.1) [X0]\n",
      "+ (0.1) [X1]\n",
      "+ (0.1) [X2]\n",
      "+ (1.0) [Z0 Z1]\n",
      "+ (1.0) [Z1 Z2]\n"
     ]
    },
    {
     "name": "stderr",
     "output_type": "stream",
     "text": [
      "WARNING: All log messages before absl::InitializeLog() is called are written to STDERR\n",
      "I0000 00:00:1706304169.774383       1 tfrt_cpu_pjrt_client.cc:349] TfrtCpuClient created.\n",
      "/Users/jorgegarciaponce/Research/Yelin/PerceptronLossLandscapes/.venv/lib/python3.11/site-packages/pennylane/ops/functions/eigvals.py:108: UserWarning: For Hamiltonians, the eigenvalues will be computed numerically. This may be computationally intensive for a large number of wires. Consider using a sparse representation of the Hamiltonian with qml.SparseHamiltonian.\n",
      "  warnings.warn(\n"
     ]
    }
   ],
   "source": [
    "# setting up the problem\n",
    "perceptron_qubits = 3\n",
    "pulse_basis = 2\n",
    "ts = jnp.array([1.0])\n",
    "t = 1\n",
    "\n",
    "dev = qml.device(\"default.qubit.jax\", wires = perceptron_qubits)\n",
    "\n",
    "\n",
    "perceptron =NativePerceptron(perceptron_qubits, pulse_basis, basis='gaussian', pulse_width=0.005, native_coupling=1)\n",
    "\n",
    "H =  perceptron.H\n",
    "\n",
    "H_obj, H_obj_spectrum = perceptron.get_1d_ising_hamiltonian(0.1)\n",
    "\n",
    "# e_ground_state_exact = H_obj_spectrum[0]\n",
    "\n",
    "print(f'Ising Model Hamiltonian:\\nH = {H_obj}')\n",
    "# print(f'Exact ground state energy: {e_ground_state_exact}')\n"
   ]
  },
  {
   "cell_type": "code",
   "execution_count": 3,
   "metadata": {},
   "outputs": [],
   "source": [
    "param_vector = perceptron.get_random_parameter_vector(89889)"
   ]
  },
  {
   "cell_type": "code",
   "execution_count": 12,
   "metadata": {},
   "outputs": [
    {
     "name": "stderr",
     "output_type": "stream",
     "text": [
      "/Users/jorgegarciaponce/Research/Yelin/PerceptronLossLandscapes/.venv/lib/python3.11/site-packages/pennylane/measurements/expval.py:56: UserWarning: Prod might not be hermitian.\n",
      "  warnings.warn(f\"{op.name} might not be hermitian.\")\n",
      "/Users/jorgegarciaponce/Research/Yelin/PerceptronLossLandscapes/.venv/lib/python3.11/site-packages/jax/_src/numpy/lax_numpy.py:2054: ComplexWarning: Casting complex values to real discards the imaginary part\n",
      "  out = np.array(object, dtype=dtype, ndmin=ndmin, copy=False)  # type: ignore[arg-type]\n"
     ]
    },
    {
     "data": {
      "text/plain": [
       "Array(0.455465, dtype=float64)"
      ]
     },
     "execution_count": 12,
     "metadata": {},
     "output_type": "execute_result"
    }
   ],
   "source": [
    "@qml.qnode(dev, interface=\"jax\")\n",
    "\n",
    "def get_expectation(perceptron, tp, tk, pauli_op_a, pauli_op_b, param_vector):\n",
    "\n",
    "    param_list = perceptron.vector_to_hamiltonian_parameters(param_vector)\n",
    "\n",
    "    qml.evolve(perceptron.H)(param_list, tp)\n",
    "\n",
    "    U = qml.evolve(perceptron.H)(param_list, [tp, tk])\n",
    "\n",
    "    return qml.expval((qml.adjoint(U)@pauli_op_a@U)@ pauli_op_b )\n",
    "\n",
    "\n",
    "get_expectation(perceptron, 0.33, 0.66, qml.PauliX(1), qml.PauliY(2), param_vector)\n"
   ]
  },
  {
   "cell_type": "code",
   "execution_count": null,
   "metadata": {},
   "outputs": [],
   "source": []
  }
 ],
 "metadata": {
  "kernelspec": {
   "display_name": ".venv",
   "language": "python",
   "name": "python3"
  },
  "language_info": {
   "codemirror_mode": {
    "name": "ipython",
    "version": 3
   },
   "file_extension": ".py",
   "mimetype": "text/x-python",
   "name": "python",
   "nbconvert_exporter": "python",
   "pygments_lexer": "ipython3",
   "version": "3.11.3"
  }
 },
 "nbformat": 4,
 "nbformat_minor": 2
}
