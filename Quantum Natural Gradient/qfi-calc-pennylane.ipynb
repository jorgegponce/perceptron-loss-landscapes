{
 "cells": [
  {
   "cell_type": "code",
   "execution_count": 1,
   "metadata": {},
   "outputs": [],
   "source": [
    "import pennylane as qml\n",
    "import pennylane.numpy as np\n",
    "import jax.numpy as jnp\n",
    "import jax\n",
    "import random\n",
    "\n",
    "\n",
    "import os, sys, argparse\n",
    "parent = os.path.abspath('../src')\n",
    "sys.path.insert(1, parent)\n",
    "\n",
    "from perceptron import Perceptron"
   ]
  },
  {
   "cell_type": "code",
   "execution_count": 2,
   "metadata": {},
   "outputs": [
    {
     "name": "stderr",
     "output_type": "stream",
     "text": [
      "WARNING: All log messages before absl::InitializeLog() is called are written to STDERR\n",
      "I0000 00:00:1706285157.105770       1 tfrt_cpu_pjrt_client.cc:349] TfrtCpuClient created.\n"
     ]
    }
   ],
   "source": [
    "# Setting up the problem\n",
    "nqubits = 4 # Last qubit is the output qubit. We're not worrying about it in this setup\n",
    "L = 3\n",
    "fourier_basis = 1\n",
    "ts = jnp.array([0.0, 1.0])\n",
    "\n",
    "perceptron = Perceptron(nqubits, fourier_basis, basis='pwc')"
   ]
  },
  {
   "cell_type": "code",
   "execution_count": 3,
   "metadata": {},
   "outputs": [],
   "source": [
    "# Various functions to help simplify the circuit construction\n",
    "\n",
    "def get_observables(N):\n",
    "    \n",
    "    observables = []\n",
    "\n",
    "    # Coupling operators\n",
    "    for i in range(N-1):\n",
    "        observables.append(qml.PauliZ(i) @ qml.PauliZ(i+1))\n",
    "\n",
    "    # Identity operator\n",
    "    for i in range(N):\n",
    "        observables.append(qml.Identity(i))\n",
    "\n",
    "    return observables\n",
    "\n",
    "def get_coeffs(params, N):\n",
    "\n",
    "    coeffs = []\n",
    "\n",
    "    # Coupling coeffs\n",
    "    for i in range(N-1):\n",
    "        coeffs.append((params[0])**2/params[1])\n",
    "\n",
    "    # Constant coeffs\n",
    "    for i in range(N):\n",
    "        coeffs.append(params[1])\n",
    "\n",
    "    return coeffs\n",
    "\n",
    "def create_Hamiltonian(params):\n",
    "\n",
    "    coeffs = get_coeffs(params, nqubits)\n",
    "    obs = get_observables(nqubits)\n",
    "    \n",
    "    # H = qml.dot(coeffs, obs)\n",
    "    H = qml.Hamiltonian(coeffs, obs)\n",
    "\n",
    "    return H\n",
    "\n",
    "def get_Sy(nqubits):\n",
    "\n",
    "    S_0 = nqubits/2\n",
    "    c = 0\n",
    "\n",
    "    for i in range(nqubits):\n",
    "        c += (1/(2*S_0))*qml.PauliY(wires=i)\n",
    "\n",
    "    return c"
   ]
  },
  {
   "cell_type": "code",
   "execution_count": 4,
   "metadata": {},
   "outputs": [],
   "source": [
    "def create_params(L, scale = 0.1):\n",
    "    \n",
    "    params = np.array([], requires_grad=True)\n",
    "\n",
    "    for i in range(L):\n",
    "        J = scale*np.random.uniform()\n",
    "        O = 1.0\n",
    "        theta = scale*np.random.uniform()\n",
    "        \n",
    "        params = np.append(params, [J, O, theta], requires_grad=True)\n",
    "            \n",
    "    return params"
   ]
  },
  {
   "cell_type": "code",
   "execution_count": 5,
   "metadata": {},
   "outputs": [],
   "source": [
    "dev = qml.device(\"default.qubit\", wires=nqubits, shots=None)\n",
    "\n",
    "def U1(params):\n",
    "    start_index = 0\n",
    "    num_trotter_steps = 2\n",
    "\n",
    "    for i in range(L):\n",
    "        new_params = params[start_index:start_index + 3]\n",
    "        H = create_Hamiltonian(new_params[0:2])\n",
    "        qml.evolve(H, num_steps = num_trotter_steps)\n",
    "        # for j in range(nqubits):\n",
    "        #     qml.RX(new_params[2], wires=j) # Change params to make sure that theta value changes for each L\n",
    "        start_index += 3 # Put state_index in again\n",
    "\n",
    "@qml.qnode(dev)\n",
    "def circuit(params, a, phi):\n",
    "\n",
    "    for i in range(nqubits): # Making the initial CSS\n",
    "        qml.Hadamard(wires=i)\n",
    "\n",
    "    U1(params)\n",
    "\n",
    "    # for z in range(nqubits): # Perturbation\n",
    "    #     qml.RY(phi, wires = z)\n",
    "\n",
    "    qml.adjoint(U1)(params)\n",
    "\n",
    "    # expectation_values = [qml.expval(qml.PauliY(wires=i)) for i in range(nqubits)]\n",
    "\n",
    "    c = get_Sy(nqubits) * a[0]\n",
    "\n",
    "    return qml.expval(c)"
   ]
  },
  {
   "cell_type": "code",
   "execution_count": 6,
   "metadata": {},
   "outputs": [
    {
     "data": {
      "text/plain": [
       "tensor(-3.00926554e-36, requires_grad=True)"
      ]
     },
     "execution_count": 6,
     "metadata": {},
     "output_type": "execute_result"
    }
   ],
   "source": [
    "L = 4\n",
    "params = create_params(L)\n",
    "phi = np.array([0.001], requires_grad=False)\n",
    "a = np.array([0.001], requires_grad=False)\n",
    "circuit(params, a, phi)"
   ]
  },
  {
   "cell_type": "code",
   "execution_count": 7,
   "metadata": {},
   "outputs": [
    {
     "data": {
      "text/plain": [
       "tensor([0.01686686, 1.        , 0.07810264, 0.08207671, 1.        ,\n",
       "        0.04695861, 0.05885139, 1.        , 0.05346673, 0.06334325,\n",
       "        1.        , 0.07770641], requires_grad=True)"
      ]
     },
     "execution_count": 7,
     "metadata": {},
     "output_type": "execute_result"
    }
   ],
   "source": [
    "params"
   ]
  },
  {
   "cell_type": "code",
   "execution_count": 8,
   "metadata": {},
   "outputs": [
    {
     "data": {
      "text/plain": [
       "tensor([0.001], requires_grad=False)"
      ]
     },
     "execution_count": 8,
     "metadata": {},
     "output_type": "execute_result"
    }
   ],
   "source": [
    "phi = np.array([0.001], requires_grad=False)\n",
    "phi"
   ]
  },
  {
   "cell_type": "code",
   "execution_count": 15,
   "metadata": {},
   "outputs": [
    {
     "name": "stderr",
     "output_type": "stream",
     "text": [
      "/Users/jorgegarciaponce/Research/Yelin/PerceptronLossLandscapes/.venv/lib/python3.11/site-packages/pennylane/drawer/mpldrawer.py:545: UserWarning: Glyph 120023 (\\N{MATHEMATICAL BOLD SCRIPT CAPITAL H}) missing from current font.\n",
      "  bbox = text_obj.get_window_extent(renderer)\n",
      "/Users/jorgegarciaponce/Research/Yelin/PerceptronLossLandscapes/.venv/lib/python3.11/site-packages/IPython/core/pylabtools.py:152: UserWarning: Glyph 120023 (\\N{MATHEMATICAL BOLD SCRIPT CAPITAL H}) missing from current font.\n",
      "  fig.canvas.print_figure(bytes_io, **kw)\n"
     ]
    },
    {
     "data": {
      "image/png": "[encoded data removed]",
      "text/plain": [
       "<Figure size 1200x500 with 1 Axes>"
      ]
     },
     "metadata": {},
     "output_type": "display_data"
    }
   ],
   "source": [
    "import matplotlib.pyplot as plt\n",
    "# qml.drawer.use_style(\"black_white\")\n",
    "fig, ax = qml.draw_mpl(circuit, decimals=5, style=None)(params, a, phi)\n",
    "plt.show()"
   ]
  },
  {
   "cell_type": "code",
   "execution_count": 16,
   "metadata": {},
   "outputs": [
    {
     "name": "stdout",
     "output_type": "stream",
     "text": [
      "[[ 0.00007 -0.       0.       0.      -0.       0.       0.       0.       0.       0.       0.       0.     ]\n",
      " [-0.       0.       0.      -0.       0.       0.       0.       0.       0.       0.       0.       0.     ]\n",
      " [ 0.       0.       0.       0.       0.       0.       0.       0.       0.       0.       0.       0.     ]\n",
      " [ 0.      -0.       0.       0.1007  -0.00461  0.       0.      -0.       0.       0.       0.       0.     ]\n",
      " [-0.       0.       0.      -0.00461  0.00021  0.      -0.       0.       0.       0.       0.       0.     ]\n",
      " [ 0.       0.       0.       0.       0.       0.       0.       0.       0.       0.       0.       0.     ]\n",
      " [ 0.       0.       0.       0.      -0.       0.       0.01689 -0.00032  0.      -0.       0.       0.     ]\n",
      " [ 0.       0.       0.      -0.       0.       0.      -0.00032  0.00001  0.       0.      -0.       0.     ]\n",
      " [ 0.       0.       0.       0.       0.       0.       0.       0.       0.       0.       0.       0.     ]\n",
      " [ 0.       0.       0.       0.       0.       0.      -0.       0.       0.       0.02513 -0.00057  0.     ]\n",
      " [ 0.       0.       0.       0.       0.       0.       0.      -0.       0.      -0.00057  0.00001  0.     ]\n",
      " [ 0.       0.       0.       0.       0.       0.       0.       0.       0.       0.       0.       0.     ]]\n"
     ]
    }
   ],
   "source": [
    "np.set_printoptions(suppress=True, precision=5, linewidth=170)\n",
    "print(np.round(qml.metric_tensor(circuit, approx=\"block-diag\")(params,a, phi), 8))"
   ]
  },
  {
   "cell_type": "markdown",
   "metadata": {},
   "source": [
    "# QNG Calculation Loop"
   ]
  },
  {
   "cell_type": "code",
   "execution_count": null,
   "metadata": {},
   "outputs": [
    {
     "name": "stdout",
     "output_type": "stream",
     "text": [
      "~ Beginning calculation of QNG for layer 1\n",
      "Done calculating QNG for layer 1\n",
      "~ Beginning calculation of QNG for layer 2\n",
      "Done calculating QNG for layer 2\n",
      "~ Beginning calculation of QNG for layer 3\n",
      "Done calculating QNG for layer 3\n",
      "~ Beginning calculation of QNG for layer 4\n",
      "Done calculating QNG for layer 4\n",
      "~ Beginning calculation of QNG for layer 5\n",
      "Done calculating QNG for layer 5\n",
      "~ Beginning calculation of QNG for layer 6\n",
      "Done calculating QNG for layer 6\n",
      "~ Beginning calculation of QNG for layer 7\n",
      "Done calculating QNG for layer 7\n",
      "~ Beginning calculation of QNG for layer 8\n",
      "Done calculating QNG for layer 8\n",
      "~ Beginning calculation of QNG for layer 9\n",
      "Done calculating QNG for layer 9\n",
      "~ Beginning calculation of QNG for layer 10\n",
      "Done calculating QNG for layer 10\n"
     ]
    }
   ],
   "source": [
    "nqubits = 10 # Last qubit is the output qubit. We're not worrying about it in this setup\n",
    "L_total = 11\n",
    "ts = [0.0, 1.0]\n",
    "phi = np.array([0.001], requires_grad=False)\n",
    "\n",
    "total_dict = {}\n",
    "\n",
    "for i in range(1, L_total):\n",
    "    L = i\n",
    "    params = create_params(L)\n",
    "    print(f\"~ Beginning calculation of QNG for layer {L}\")\n",
    "    metric_tensor = np.round(qml.metric_tensor(circuit, approx=\"block-diag\")(params, phi), 8)\n",
    "    qfim = qml.qinfo.quantum_fisher(circuit)(params, phi)\n",
    "    total_dict[L] = (metric_tensor, qfim)\n",
    "    print(f\"Done calculating QNG for layer {L}\")\n",
    "    "
   ]
  },
  {
   "cell_type": "code",
   "execution_count": null,
   "metadata": {},
   "outputs": [
    {
     "name": "stdout",
     "output_type": "stream",
     "text": [
      "Dictionary saved to pennylane_qfi_calc.pkl\n"
     ]
    }
   ],
   "source": [
    "import pickle\n",
    "\n",
    "# Specify the file path where you want to save the dictionary\n",
    "file_path = 'pennylane_qfi_calc.pkl'\n",
    "\n",
    "# Save the dictionary to a file using pickle\n",
    "with open(file_path, 'wb') as file:\n",
    "    pickle.dump(total_dict, file)\n",
    "\n",
    "print(f\"Dictionary saved to {file_path}\")"
   ]
  },
  {
   "cell_type": "markdown",
   "metadata": {},
   "source": [
    "# Optimizing loop"
   ]
  },
  {
   "cell_type": "code",
   "execution_count": null,
   "metadata": {},
   "outputs": [],
   "source": [
    "def cost(params, a, phi):\n",
    "    circuit_output = circuit(params, a, phi)\n",
    "    mse = np.mean((phi-circuit_output)**2)\n",
    "    return mse"
   ]
  },
  {
   "cell_type": "code",
   "execution_count": null,
   "metadata": {},
   "outputs": [
    {
     "data": {
      "text/plain": [
       "tensor(0.00252567, requires_grad=True)"
      ]
     },
     "execution_count": 133,
     "metadata": {},
     "output_type": "execute_result"
    }
   ],
   "source": [
    "L = 1\n",
    "a = np.array([0.001], requires_grad=True)\n",
    "init_params = create_params(L)\n",
    "phi_list = np.array([0.0, 0.1, 0.01, 0.001], requires_grad=False)\n",
    "cost(init_params, a, phi_list)"
   ]
  },
  {
   "cell_type": "code",
   "execution_count": null,
   "metadata": {},
   "outputs": [
    {
     "data": {
      "text/plain": [
       "tensor([0.   , 0.1  , 0.01 , 0.001], requires_grad=False)"
      ]
     },
     "execution_count": 130,
     "metadata": {},
     "output_type": "execute_result"
    }
   ],
   "source": [
    "phi_list"
   ]
  },
  {
   "cell_type": "code",
   "execution_count": null,
   "metadata": {},
   "outputs": [
    {
     "name": "stdout",
     "output_type": "stream",
     "text": [
      "[-5.55111512e-21 -7.38905509e-06 -7.39644200e-07 -7.39651581e-08]\n",
      "-1.1102230246251566e-20\n"
     ]
    }
   ],
   "source": [
    "print(circuit(params, a, phi_list)) # broadcasting\n",
    "print(circuit(params, a, phi_list[0]))"
   ]
  },
  {
   "cell_type": "code",
   "execution_count": null,
   "metadata": {},
   "outputs": [
    {
     "name": "stdout",
     "output_type": "stream",
     "text": [
      "<class 'pennylane.numpy.tensor.tensor'>\n",
      "[0.    0.1   0.01  0.001]\n",
      "<class 'pennylane.numpy.tensor.tensor'>\n",
      "0.0\n"
     ]
    }
   ],
   "source": [
    "L = 1\n",
    "a = np.array([0.001], requires_grad=True)\n",
    "init_params = create_params(L)\n",
    "phi_list = np.array([0.0, 0.1, 0.01, 0.001], requires_grad=False)\n",
    "\n",
    "# circuit(params, a, phi_list)\n",
    "print(type(phi_list))\n",
    "print(phi_list)\n",
    "print(type(phi_list[0]))\n",
    "print(phi_list[0])"
   ]
  },
  {
   "cell_type": "code",
   "execution_count": null,
   "metadata": {},
   "outputs": [
    {
     "data": {
      "text/plain": [
       "[tensor([0.   , 0.1  , 0.01 , 0.001], requires_grad=False)]"
      ]
     },
     "execution_count": 101,
     "metadata": {},
     "output_type": "execute_result"
    }
   ],
   "source": [
    "phi_list"
   ]
  },
  {
   "cell_type": "code",
   "execution_count": null,
   "metadata": {},
   "outputs": [],
   "source": [
    "# Create a list of length 100\n",
    "phi_train = []\n",
    "\n",
    "# Populate the list with NumPy arrays\n",
    "for _ in range(100):\n",
    "    x = np.random.uniform(-0.5, 0.5)\n",
    "    array_with_grad = np.array(x, requires_grad=False)\n",
    "    phi_train.append(array_with_grad)"
   ]
  },
  {
   "cell_type": "code",
   "execution_count": null,
   "metadata": {},
   "outputs": [],
   "source": [
    "L = 1\n",
    "a = np.array([0.001], requires_grad=True)\n",
    "init_params = create_params(L)\n",
    "phi_list = np.array([0.001, 0.01, 0.1], requires_grad=False)\n",
    "\n",
    "z = cost(init_params, a, phi_list)"
   ]
  },
  {
   "cell_type": "code",
   "execution_count": null,
   "metadata": {},
   "outputs": [
    {
     "name": "stdout",
     "output_type": "stream",
     "text": [
      "[0.001]\n",
      "[0.01]\n"
     ]
    }
   ],
   "source": [
    "phi_list = [np.array([0.001], requires_grad=False), np.array([0.01], requires_grad=False)]\n",
    "for i in phi_list:\n",
    "        print(i)"
   ]
  },
  {
   "cell_type": "code",
   "execution_count": null,
   "metadata": {},
   "outputs": [
    {
     "data": {
      "text/plain": [
       "pennylane.numpy.tensor.tensor"
      ]
     },
     "execution_count": 45,
     "metadata": {},
     "output_type": "execute_result"
    }
   ],
   "source": [
    "type(phi)"
   ]
  },
  {
   "cell_type": "code",
   "execution_count": null,
   "metadata": {},
   "outputs": [
    {
     "ename": "TypeError",
     "evalue": "Can't differentiate w.r.t. type <class 'pennylane.ops.qubit.hamiltonian.Hamiltonian'>",
     "output_type": "error",
     "traceback": [
      "\u001b[0;31m---------------------------------------------------------------------------\u001b[0m",
      "\u001b[0;31mKeyError\u001b[0m                                  Traceback (most recent call last)",
      "File \u001b[0;32m~/Documents/RSI/research/code/quantum-perceptron/pennylane-code/venv-pennylane/lib/python3.11/site-packages/autograd/tracer.py:118\u001b[0m, in \u001b[0;36mnew_box\u001b[0;34m(value, trace, node)\u001b[0m\n\u001b[1;32m    117\u001b[0m \u001b[39mtry\u001b[39;00m:\n\u001b[0;32m--> 118\u001b[0m     \u001b[39mreturn\u001b[39;00m box_type_mappings[\u001b[39mtype\u001b[39;49m(value)](value, trace, node)\n\u001b[1;32m    119\u001b[0m \u001b[39mexcept\u001b[39;00m \u001b[39mKeyError\u001b[39;00m:\n",
      "\u001b[0;31mKeyError\u001b[0m: <class 'pennylane.ops.qubit.hamiltonian.Hamiltonian'>",
      "\nDuring handling of the above exception, another exception occurred:\n",
      "\u001b[0;31mTypeError\u001b[0m                                 Traceback (most recent call last)",
      "\u001b[1;32m/Users/nickg/Documents/RSI/research/code/quantum-perceptron/pennylane-code/qfi-calc-pennylane.ipynb Cell 24\u001b[0m line \u001b[0;36m1\n\u001b[1;32m     <a href='vscode-notebook-cell:/Users/nickg/Documents/RSI/research/code/quantum-perceptron/pennylane-code/qfi-calc-pennylane.ipynb#X16sZmlsZQ%3D%3D?line=12'>13</a>\u001b[0m \u001b[39m# opt = qml.AdamOptimizer(stepsize=0.01, beta1=0.9, beta2=0.99)\u001b[39;00m\n\u001b[1;32m     <a href='vscode-notebook-cell:/Users/nickg/Documents/RSI/research/code/quantum-perceptron/pennylane-code/qfi-calc-pennylane.ipynb#X16sZmlsZQ%3D%3D?line=14'>15</a>\u001b[0m qng_cost \u001b[39m=\u001b[39m []\n\u001b[0;32m---> <a href='vscode-notebook-cell:/Users/nickg/Documents/RSI/research/code/quantum-perceptron/pennylane-code/qfi-calc-pennylane.ipynb#X16sZmlsZQ%3D%3D?line=16'>17</a>\u001b[0m new_params \u001b[39m=\u001b[39m opt\u001b[39m.\u001b[39;49mstep_and_cost(cost, init_params, a, phi)\n\u001b[1;32m     <a href='vscode-notebook-cell:/Users/nickg/Documents/RSI/research/code/quantum-perceptron/pennylane-code/qfi-calc-pennylane.ipynb#X16sZmlsZQ%3D%3D?line=18'>19</a>\u001b[0m \u001b[39m# for _ in range(steps):\u001b[39;00m\n\u001b[1;32m     <a href='vscode-notebook-cell:/Users/nickg/Documents/RSI/research/code/quantum-perceptron/pennylane-code/qfi-calc-pennylane.ipynb#X16sZmlsZQ%3D%3D?line=19'>20</a>\u001b[0m \u001b[39m#     print(f'Step: {_}')\u001b[39;00m\n\u001b[1;32m     <a href='vscode-notebook-cell:/Users/nickg/Documents/RSI/research/code/quantum-perceptron/pennylane-code/qfi-calc-pennylane.ipynb#X16sZmlsZQ%3D%3D?line=20'>21</a>\u001b[0m \u001b[39m#     new_params = opt.step(circuit, init_params, phi)\u001b[39;00m\n\u001b[1;32m     <a href='vscode-notebook-cell:/Users/nickg/Documents/RSI/research/code/quantum-perceptron/pennylane-code/qfi-calc-pennylane.ipynb#X16sZmlsZQ%3D%3D?line=21'>22</a>\u001b[0m \u001b[39m#     qng_cost.append(circuit(new_params))\u001b[39;00m\n",
      "File \u001b[0;32m~/Documents/RSI/research/code/quantum-perceptron/pennylane-code/venv-pennylane/lib/python3.11/site-packages/pennylane/optimize/gradient_descent.py:59\u001b[0m, in \u001b[0;36mGradientDescentOptimizer.step_and_cost\u001b[0;34m(self, objective_fn, grad_fn, *args, **kwargs)\u001b[0m\n\u001b[1;32m     39\u001b[0m \u001b[39mdef\u001b[39;00m \u001b[39mstep_and_cost\u001b[39m(\u001b[39mself\u001b[39m, objective_fn, \u001b[39m*\u001b[39margs, grad_fn\u001b[39m=\u001b[39m\u001b[39mNone\u001b[39;00m, \u001b[39m*\u001b[39m\u001b[39m*\u001b[39mkwargs):\n\u001b[1;32m     40\u001b[0m \u001b[39m    \u001b[39m\u001b[39m\"\"\"Update trainable arguments with one step of the optimizer and return the corresponding\u001b[39;00m\n\u001b[1;32m     41\u001b[0m \u001b[39m    objective function value prior to the step.\u001b[39;00m\n\u001b[1;32m     42\u001b[0m \n\u001b[0;32m   (...)\u001b[0m\n\u001b[1;32m     56\u001b[0m \u001b[39m        If single arg is provided, list [array] is replaced by array.\u001b[39;00m\n\u001b[1;32m     57\u001b[0m \u001b[39m    \"\"\"\u001b[39;00m\n\u001b[0;32m---> 59\u001b[0m     g, forward \u001b[39m=\u001b[39m \u001b[39mself\u001b[39;49m\u001b[39m.\u001b[39;49mcompute_grad(objective_fn, args, kwargs, grad_fn\u001b[39m=\u001b[39;49mgrad_fn)\n\u001b[1;32m     60\u001b[0m     new_args \u001b[39m=\u001b[39m \u001b[39mself\u001b[39m\u001b[39m.\u001b[39mapply_grad(g, args)\n\u001b[1;32m     62\u001b[0m     \u001b[39mif\u001b[39;00m forward \u001b[39mis\u001b[39;00m \u001b[39mNone\u001b[39;00m:\n",
      "File \u001b[0;32m~/Documents/RSI/research/code/quantum-perceptron/pennylane-code/venv-pennylane/lib/python3.11/site-packages/pennylane/optimize/gradient_descent.py:117\u001b[0m, in \u001b[0;36mGradientDescentOptimizer.compute_grad\u001b[0;34m(objective_fn, args, kwargs, grad_fn)\u001b[0m\n\u001b[1;32m     99\u001b[0m \u001b[39m\u001b[39m\u001b[39mr\u001b[39m\u001b[39m\"\"\"Compute gradient of the objective function at the given point and return it along with\u001b[39;00m\n\u001b[1;32m    100\u001b[0m \u001b[39mthe objective function forward pass (if available).\u001b[39;00m\n\u001b[1;32m    101\u001b[0m \n\u001b[0;32m   (...)\u001b[0m\n\u001b[1;32m    114\u001b[0m \u001b[39m    will not be evaluted and instead ``None`` will be returned.\u001b[39;00m\n\u001b[1;32m    115\u001b[0m \u001b[39m\"\"\"\u001b[39;00m\n\u001b[1;32m    116\u001b[0m g \u001b[39m=\u001b[39m get_gradient(objective_fn) \u001b[39mif\u001b[39;00m grad_fn \u001b[39mis\u001b[39;00m \u001b[39mNone\u001b[39;00m \u001b[39melse\u001b[39;00m grad_fn\n\u001b[0;32m--> 117\u001b[0m grad \u001b[39m=\u001b[39m g(\u001b[39m*\u001b[39;49margs, \u001b[39m*\u001b[39;49m\u001b[39m*\u001b[39;49mkwargs)\n\u001b[1;32m    118\u001b[0m forward \u001b[39m=\u001b[39m \u001b[39mgetattr\u001b[39m(g, \u001b[39m\"\u001b[39m\u001b[39mforward\u001b[39m\u001b[39m\"\u001b[39m, \u001b[39mNone\u001b[39;00m)\n\u001b[1;32m    120\u001b[0m num_trainable_args \u001b[39m=\u001b[39m \u001b[39msum\u001b[39m(\u001b[39mgetattr\u001b[39m(arg, \u001b[39m\"\u001b[39m\u001b[39mrequires_grad\u001b[39m\u001b[39m\"\u001b[39m, \u001b[39mFalse\u001b[39;00m) \u001b[39mfor\u001b[39;00m arg \u001b[39min\u001b[39;00m args)\n",
      "File \u001b[0;32m~/Documents/RSI/research/code/quantum-perceptron/pennylane-code/venv-pennylane/lib/python3.11/site-packages/pennylane/_grad.py:118\u001b[0m, in \u001b[0;36mgrad.__call__\u001b[0;34m(self, *args, **kwargs)\u001b[0m\n\u001b[1;32m    115\u001b[0m     \u001b[39mself\u001b[39m\u001b[39m.\u001b[39m_forward \u001b[39m=\u001b[39m \u001b[39mself\u001b[39m\u001b[39m.\u001b[39m_fun(\u001b[39m*\u001b[39margs, \u001b[39m*\u001b[39m\u001b[39m*\u001b[39mkwargs)\n\u001b[1;32m    116\u001b[0m     \u001b[39mreturn\u001b[39;00m ()\n\u001b[0;32m--> 118\u001b[0m grad_value, ans \u001b[39m=\u001b[39m grad_fn(\u001b[39m*\u001b[39;49margs, \u001b[39m*\u001b[39;49m\u001b[39m*\u001b[39;49mkwargs)  \u001b[39m# pylint: disable=not-callable\u001b[39;00m\n\u001b[1;32m    119\u001b[0m \u001b[39mself\u001b[39m\u001b[39m.\u001b[39m_forward \u001b[39m=\u001b[39m ans\n\u001b[1;32m    121\u001b[0m \u001b[39mreturn\u001b[39;00m grad_value\n",
      "File \u001b[0;32m~/Documents/RSI/research/code/quantum-perceptron/pennylane-code/venv-pennylane/lib/python3.11/site-packages/autograd/wrap_util.py:20\u001b[0m, in \u001b[0;36munary_to_nary.<locals>.nary_operator.<locals>.nary_f\u001b[0;34m(*args, **kwargs)\u001b[0m\n\u001b[1;32m     18\u001b[0m \u001b[39melse\u001b[39;00m:\n\u001b[1;32m     19\u001b[0m     x \u001b[39m=\u001b[39m \u001b[39mtuple\u001b[39m(args[i] \u001b[39mfor\u001b[39;00m i \u001b[39min\u001b[39;00m argnum)\n\u001b[0;32m---> 20\u001b[0m \u001b[39mreturn\u001b[39;00m unary_operator(unary_f, x, \u001b[39m*\u001b[39;49mnary_op_args, \u001b[39m*\u001b[39;49m\u001b[39m*\u001b[39;49mnary_op_kwargs)\n",
      "File \u001b[0;32m~/Documents/RSI/research/code/quantum-perceptron/pennylane-code/venv-pennylane/lib/python3.11/site-packages/pennylane/_grad.py:136\u001b[0m, in \u001b[0;36mgrad._grad_with_forward\u001b[0;34m(fun, x)\u001b[0m\n\u001b[1;32m    130\u001b[0m \u001b[39m@staticmethod\u001b[39m\n\u001b[1;32m    131\u001b[0m \u001b[39m@unary_to_nary\u001b[39m\n\u001b[1;32m    132\u001b[0m \u001b[39mdef\u001b[39;00m \u001b[39m_grad_with_forward\u001b[39m(fun, x):\n\u001b[1;32m    133\u001b[0m \u001b[39m    \u001b[39m\u001b[39m\"\"\"This function is a replica of ``autograd.grad``, with the only\u001b[39;00m\n\u001b[1;32m    134\u001b[0m \u001b[39m    difference being that it returns both the gradient *and* the forward pass\u001b[39;00m\n\u001b[1;32m    135\u001b[0m \u001b[39m    value.\"\"\"\u001b[39;00m\n\u001b[0;32m--> 136\u001b[0m     vjp, ans \u001b[39m=\u001b[39m _make_vjp(fun, x)\n\u001b[1;32m    138\u001b[0m     \u001b[39mif\u001b[39;00m \u001b[39mnot\u001b[39;00m vspace(ans)\u001b[39m.\u001b[39msize \u001b[39m==\u001b[39m \u001b[39m1\u001b[39m:\n\u001b[1;32m    139\u001b[0m         \u001b[39mraise\u001b[39;00m \u001b[39mTypeError\u001b[39;00m(\n\u001b[1;32m    140\u001b[0m             \u001b[39m\"\u001b[39m\u001b[39mGrad only applies to real scalar-output functions. \u001b[39m\u001b[39m\"\u001b[39m\n\u001b[1;32m    141\u001b[0m             \u001b[39m\"\u001b[39m\u001b[39mTry jacobian, elementwise_grad or holomorphic_grad.\u001b[39m\u001b[39m\"\u001b[39m\n\u001b[1;32m    142\u001b[0m         )\n",
      "File \u001b[0;32m~/Documents/RSI/research/code/quantum-perceptron/pennylane-code/venv-pennylane/lib/python3.11/site-packages/autograd/core.py:10\u001b[0m, in \u001b[0;36mmake_vjp\u001b[0;34m(fun, x)\u001b[0m\n\u001b[1;32m      8\u001b[0m \u001b[39mdef\u001b[39;00m \u001b[39mmake_vjp\u001b[39m(fun, x):\n\u001b[1;32m      9\u001b[0m     start_node \u001b[39m=\u001b[39m VJPNode\u001b[39m.\u001b[39mnew_root()\n\u001b[0;32m---> 10\u001b[0m     end_value, end_node \u001b[39m=\u001b[39m  trace(start_node, fun, x)\n\u001b[1;32m     11\u001b[0m     \u001b[39mif\u001b[39;00m end_node \u001b[39mis\u001b[39;00m \u001b[39mNone\u001b[39;00m:\n\u001b[1;32m     12\u001b[0m         \u001b[39mdef\u001b[39;00m \u001b[39mvjp\u001b[39m(g): \u001b[39mreturn\u001b[39;00m vspace(x)\u001b[39m.\u001b[39mzeros()\n",
      "File \u001b[0;32m~/Documents/RSI/research/code/quantum-perceptron/pennylane-code/venv-pennylane/lib/python3.11/site-packages/autograd/tracer.py:10\u001b[0m, in \u001b[0;36mtrace\u001b[0;34m(start_node, fun, x)\u001b[0m\n\u001b[1;32m      8\u001b[0m \u001b[39mwith\u001b[39;00m trace_stack\u001b[39m.\u001b[39mnew_trace() \u001b[39mas\u001b[39;00m t:\n\u001b[1;32m      9\u001b[0m     start_box \u001b[39m=\u001b[39m new_box(x, t, start_node)\n\u001b[0;32m---> 10\u001b[0m     end_box \u001b[39m=\u001b[39m fun(start_box)\n\u001b[1;32m     11\u001b[0m     \u001b[39mif\u001b[39;00m isbox(end_box) \u001b[39mand\u001b[39;00m end_box\u001b[39m.\u001b[39m_trace \u001b[39m==\u001b[39m start_box\u001b[39m.\u001b[39m_trace:\n\u001b[1;32m     12\u001b[0m         \u001b[39mreturn\u001b[39;00m end_box\u001b[39m.\u001b[39m_value, end_box\u001b[39m.\u001b[39m_node\n",
      "File \u001b[0;32m~/Documents/RSI/research/code/quantum-perceptron/pennylane-code/venv-pennylane/lib/python3.11/site-packages/autograd/wrap_util.py:15\u001b[0m, in \u001b[0;36munary_to_nary.<locals>.nary_operator.<locals>.nary_f.<locals>.unary_f\u001b[0;34m(x)\u001b[0m\n\u001b[1;32m     13\u001b[0m \u001b[39melse\u001b[39;00m:\n\u001b[1;32m     14\u001b[0m     subargs \u001b[39m=\u001b[39m subvals(args, \u001b[39mzip\u001b[39m(argnum, x))\n\u001b[0;32m---> 15\u001b[0m \u001b[39mreturn\u001b[39;00m fun(\u001b[39m*\u001b[39;49msubargs, \u001b[39m*\u001b[39;49m\u001b[39m*\u001b[39;49mkwargs)\n",
      "\u001b[1;32m/Users/nickg/Documents/RSI/research/code/quantum-perceptron/pennylane-code/qfi-calc-pennylane.ipynb Cell 24\u001b[0m line \u001b[0;36m2\n\u001b[1;32m      <a href='vscode-notebook-cell:/Users/nickg/Documents/RSI/research/code/quantum-perceptron/pennylane-code/qfi-calc-pennylane.ipynb#X16sZmlsZQ%3D%3D?line=0'>1</a>\u001b[0m \u001b[39mdef\u001b[39;00m \u001b[39mcost\u001b[39m(params, a, phi):\n\u001b[0;32m----> <a href='vscode-notebook-cell:/Users/nickg/Documents/RSI/research/code/quantum-perceptron/pennylane-code/qfi-calc-pennylane.ipynb#X16sZmlsZQ%3D%3D?line=1'>2</a>\u001b[0m     circuit_output \u001b[39m=\u001b[39m circuit(params, a, phi)\n\u001b[1;32m      <a href='vscode-notebook-cell:/Users/nickg/Documents/RSI/research/code/quantum-perceptron/pennylane-code/qfi-calc-pennylane.ipynb#X16sZmlsZQ%3D%3D?line=2'>3</a>\u001b[0m     mse \u001b[39m=\u001b[39m np\u001b[39m.\u001b[39mmean((phi\u001b[39m-\u001b[39mcircuit_output)\u001b[39m*\u001b[39m\u001b[39m*\u001b[39m\u001b[39m2\u001b[39m)\n\u001b[1;32m      <a href='vscode-notebook-cell:/Users/nickg/Documents/RSI/research/code/quantum-perceptron/pennylane-code/qfi-calc-pennylane.ipynb#X16sZmlsZQ%3D%3D?line=3'>4</a>\u001b[0m     \u001b[39mreturn\u001b[39;00m mse\n",
      "File \u001b[0;32m~/Documents/RSI/research/code/quantum-perceptron/pennylane-code/venv-pennylane/lib/python3.11/site-packages/pennylane/qnode.py:970\u001b[0m, in \u001b[0;36mQNode.__call__\u001b[0;34m(self, *args, **kwargs)\u001b[0m\n\u001b[1;32m    967\u001b[0m         kwargs[\u001b[39m\"\u001b[39m\u001b[39mshots\u001b[39m\u001b[39m\"\u001b[39m] \u001b[39m=\u001b[39m _get_device_shots(\u001b[39mself\u001b[39m\u001b[39m.\u001b[39m_original_device)\n\u001b[1;32m    969\u001b[0m \u001b[39m# construct the tape\u001b[39;00m\n\u001b[0;32m--> 970\u001b[0m \u001b[39mself\u001b[39;49m\u001b[39m.\u001b[39;49mconstruct(args, kwargs)\n\u001b[1;32m    972\u001b[0m cache \u001b[39m=\u001b[39m \u001b[39mself\u001b[39m\u001b[39m.\u001b[39mexecute_kwargs\u001b[39m.\u001b[39mget(\u001b[39m\"\u001b[39m\u001b[39mcache\u001b[39m\u001b[39m\"\u001b[39m, \u001b[39mFalse\u001b[39;00m)\n\u001b[1;32m    973\u001b[0m using_custom_cache \u001b[39m=\u001b[39m (\n\u001b[1;32m    974\u001b[0m     \u001b[39mhasattr\u001b[39m(cache, \u001b[39m\"\u001b[39m\u001b[39m__getitem__\u001b[39m\u001b[39m\"\u001b[39m)\n\u001b[1;32m    975\u001b[0m     \u001b[39mand\u001b[39;00m \u001b[39mhasattr\u001b[39m(cache, \u001b[39m\"\u001b[39m\u001b[39m__setitem__\u001b[39m\u001b[39m\"\u001b[39m)\n\u001b[1;32m    976\u001b[0m     \u001b[39mand\u001b[39;00m \u001b[39mhasattr\u001b[39m(cache, \u001b[39m\"\u001b[39m\u001b[39m__delitem__\u001b[39m\u001b[39m\"\u001b[39m)\n\u001b[1;32m    977\u001b[0m )\n",
      "File \u001b[0;32m~/Documents/RSI/research/code/quantum-perceptron/pennylane-code/venv-pennylane/lib/python3.11/site-packages/pennylane/qnode.py:856\u001b[0m, in \u001b[0;36mQNode.construct\u001b[0;34m(self, args, kwargs)\u001b[0m\n\u001b[1;32m    853\u001b[0m     \u001b[39mself\u001b[39m\u001b[39m.\u001b[39minterface \u001b[39m=\u001b[39m qml\u001b[39m.\u001b[39mmath\u001b[39m.\u001b[39mget_interface(\u001b[39m*\u001b[39margs, \u001b[39m*\u001b[39m\u001b[39mlist\u001b[39m(kwargs\u001b[39m.\u001b[39mvalues()))\n\u001b[1;32m    855\u001b[0m \u001b[39mwith\u001b[39;00m qml\u001b[39m.\u001b[39mqueuing\u001b[39m.\u001b[39mAnnotatedQueue() \u001b[39mas\u001b[39;00m q:\n\u001b[0;32m--> 856\u001b[0m     \u001b[39mself\u001b[39m\u001b[39m.\u001b[39m_qfunc_output \u001b[39m=\u001b[39m \u001b[39mself\u001b[39;49m\u001b[39m.\u001b[39;49mfunc(\u001b[39m*\u001b[39;49margs, \u001b[39m*\u001b[39;49m\u001b[39m*\u001b[39;49mkwargs)\n\u001b[1;32m    858\u001b[0m \u001b[39mself\u001b[39m\u001b[39m.\u001b[39m_tape \u001b[39m=\u001b[39m QuantumScript\u001b[39m.\u001b[39mfrom_queue(q, shots)\n\u001b[1;32m    860\u001b[0m params \u001b[39m=\u001b[39m \u001b[39mself\u001b[39m\u001b[39m.\u001b[39mtape\u001b[39m.\u001b[39mget_parameters(trainable_only\u001b[39m=\u001b[39m\u001b[39mFalse\u001b[39;00m)\n",
      "\u001b[1;32m/Users/nickg/Documents/RSI/research/code/quantum-perceptron/pennylane-code/qfi-calc-pennylane.ipynb Cell 24\u001b[0m line \u001b[0;36m3\n\u001b[1;32m     <a href='vscode-notebook-cell:/Users/nickg/Documents/RSI/research/code/quantum-perceptron/pennylane-code/qfi-calc-pennylane.ipynb#X16sZmlsZQ%3D%3D?line=25'>26</a>\u001b[0m qml\u001b[39m.\u001b[39madjoint(U1)(params)\n\u001b[1;32m     <a href='vscode-notebook-cell:/Users/nickg/Documents/RSI/research/code/quantum-perceptron/pennylane-code/qfi-calc-pennylane.ipynb#X16sZmlsZQ%3D%3D?line=27'>28</a>\u001b[0m \u001b[39m# expectation_values = [qml.expval(qml.PauliY(wires=i)) for i in range(nqubits)]\u001b[39;00m\n\u001b[0;32m---> <a href='vscode-notebook-cell:/Users/nickg/Documents/RSI/research/code/quantum-perceptron/pennylane-code/qfi-calc-pennylane.ipynb#X16sZmlsZQ%3D%3D?line=29'>30</a>\u001b[0m c \u001b[39m=\u001b[39m get_Sy(nqubits) \u001b[39m*\u001b[39;49m a[\u001b[39m0\u001b[39;49m]\n\u001b[1;32m     <a href='vscode-notebook-cell:/Users/nickg/Documents/RSI/research/code/quantum-perceptron/pennylane-code/qfi-calc-pennylane.ipynb#X16sZmlsZQ%3D%3D?line=31'>32</a>\u001b[0m \u001b[39mreturn\u001b[39;00m qml\u001b[39m.\u001b[39mexpval(c)\n",
      "File \u001b[0;32m~/Documents/RSI/research/code/quantum-perceptron/pennylane-code/venv-pennylane/lib/python3.11/site-packages/autograd/numpy/numpy_boxes.py:36\u001b[0m, in \u001b[0;36mArrayBox.__rmul__\u001b[0;34m(self, other)\u001b[0m\n\u001b[0;32m---> 36\u001b[0m \u001b[39mdef\u001b[39;00m \u001b[39m__rmul__\u001b[39m(\u001b[39mself\u001b[39m, other): \u001b[39mreturn\u001b[39;00m anp\u001b[39m.\u001b[39;49mmultiply(other, \u001b[39mself\u001b[39;49m)\n",
      "File \u001b[0;32m~/Documents/RSI/research/code/quantum-perceptron/pennylane-code/venv-pennylane/lib/python3.11/site-packages/autograd/tracer.py:46\u001b[0m, in \u001b[0;36mprimitive.<locals>.f_wrapped\u001b[0;34m(*args, **kwargs)\u001b[0m\n\u001b[1;32m     44\u001b[0m     ans \u001b[39m=\u001b[39m f_wrapped(\u001b[39m*\u001b[39margvals, \u001b[39m*\u001b[39m\u001b[39m*\u001b[39mkwargs)\n\u001b[1;32m     45\u001b[0m     node \u001b[39m=\u001b[39m node_constructor(ans, f_wrapped, argvals, kwargs, argnums, parents)\n\u001b[0;32m---> 46\u001b[0m     \u001b[39mreturn\u001b[39;00m new_box(ans, trace, node)\n\u001b[1;32m     47\u001b[0m \u001b[39melse\u001b[39;00m:\n\u001b[1;32m     48\u001b[0m     \u001b[39mreturn\u001b[39;00m f_raw(\u001b[39m*\u001b[39margs, \u001b[39m*\u001b[39m\u001b[39m*\u001b[39mkwargs)\n",
      "File \u001b[0;32m~/Documents/RSI/research/code/quantum-perceptron/pennylane-code/venv-pennylane/lib/python3.11/site-packages/autograd/tracer.py:120\u001b[0m, in \u001b[0;36mnew_box\u001b[0;34m(value, trace, node)\u001b[0m\n\u001b[1;32m    118\u001b[0m     \u001b[39mreturn\u001b[39;00m box_type_mappings[\u001b[39mtype\u001b[39m(value)](value, trace, node)\n\u001b[1;32m    119\u001b[0m \u001b[39mexcept\u001b[39;00m \u001b[39mKeyError\u001b[39;00m:\n\u001b[0;32m--> 120\u001b[0m     \u001b[39mraise\u001b[39;00m \u001b[39mTypeError\u001b[39;00m(\u001b[39m\"\u001b[39m\u001b[39mCan\u001b[39m\u001b[39m'\u001b[39m\u001b[39mt differentiate w.r.t. type \u001b[39m\u001b[39m{}\u001b[39;00m\u001b[39m\"\u001b[39m\u001b[39m.\u001b[39mformat(\u001b[39mtype\u001b[39m(value)))\n",
      "\u001b[0;31mTypeError\u001b[0m: Can't differentiate w.r.t. type <class 'pennylane.ops.qubit.hamiltonian.Hamiltonian'>"
     ]
    }
   ],
   "source": [
    "L = 1\n",
    "nqubits = 10\n",
    "init_params = create_params(L)\n",
    "phi = np.array([0.001], requires_grad=False)\n",
    "a = np.array([0.001], requires_grad=True)\n",
    "nqubits = 10\n",
    "\n",
    "eta = 0.1\n",
    "n_it = 100\n",
    "\n",
    "# opt = qml.QNGOptimizer(eta, approx='block-diag')\n",
    "opt = qml.GradientDescentOptimizer(eta)\n",
    "# opt = qml.AdamOptimizer(stepsize=0.01, beta1=0.9, beta2=0.99)\n",
    "\n",
    "qng_cost = []\n",
    "\n",
    "new_params = opt.step_and_cost(cost, init_params, a, phi)\n",
    "\n",
    "# for _ in range(steps):\n",
    "#     print(f'Step: {_}')\n",
    "#     new_params = opt.step(circuit, init_params, phi)\n",
    "#     qng_cost.append(circuit(new_params))"
   ]
  },
  {
   "cell_type": "code",
   "execution_count": null,
   "metadata": {},
   "outputs": [],
   "source": [
    "def loss(outputs, values):\n",
    "    l = [(values-outputs)**2 for i in ]\n",
    "    return l[0]"
   ]
  },
  {
   "cell_type": "code",
   "execution_count": null,
   "metadata": {},
   "outputs": [
    {
     "name": "stdout",
     "output_type": "stream",
     "text": [
      "Name: PennyLane\n",
      "Version: 0.33.1\n",
      "Summary: PennyLane is a Python quantum machine learning library by Xanadu Inc.\n",
      "Home-page: https://github.com/PennyLaneAI/pennylane\n",
      "Author: \n",
      "Author-email: \n",
      "License: Apache License 2.0\n",
      "Location: /Users/nickg/Documents/RSI/research/code/quantum-perceptron/pennylane-code/venv-pennylane/lib/python3.11/site-packages\n",
      "Requires: appdirs, autograd, autoray, cachetools, networkx, numpy, pennylane-lightning, requests, rustworkx, scipy, semantic-version, toml, typing-extensions\n",
      "Required-by: PennyLane-Lightning\n",
      "\n",
      "Platform info:           macOS-13.4.1-x86_64-i386-64bit\n",
      "Python version:          3.11.5\n",
      "Numpy version:           1.26.2\n",
      "Scipy version:           1.11.4\n",
      "Installed devices:\n",
      "- default.gaussian (PennyLane-0.33.1)\n",
      "- default.mixed (PennyLane-0.33.1)\n",
      "- default.qubit (PennyLane-0.33.1)\n",
      "- default.qubit.autograd (PennyLane-0.33.1)\n",
      "- default.qubit.jax (PennyLane-0.33.1)\n",
      "- default.qubit.legacy (PennyLane-0.33.1)\n",
      "- default.qubit.tf (PennyLane-0.33.1)\n",
      "- default.qubit.torch (PennyLane-0.33.1)\n",
      "- default.qutrit (PennyLane-0.33.1)\n",
      "- null.qubit (PennyLane-0.33.1)\n",
      "- lightning.qubit (PennyLane-Lightning-0.33.1)\n"
     ]
    }
   ],
   "source": [
    "qml.about()"
   ]
  },
  {
   "cell_type": "code",
   "execution_count": null,
   "metadata": {},
   "outputs": [],
   "source": [
    "! pip li"
   ]
  }
 ],
 "metadata": {
  "kernelspec": {
   "display_name": "venv",
   "language": "python",
   "name": "python3"
  },
  "language_info": {
   "codemirror_mode": {
    "name": "ipython",
    "version": 3
   },
   "file_extension": ".py",
   "mimetype": "text/x-python",
   "name": "python",
   "nbconvert_exporter": "python",
   "pygments_lexer": "ipython3",
   "version": "3.11.3"
  }
 },
 "nbformat": 4,
 "nbformat_minor": 2
}
